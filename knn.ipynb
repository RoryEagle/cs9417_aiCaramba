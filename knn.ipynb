{
 "cells": [
  {
   "cell_type": "code",
   "execution_count": 2,
   "metadata": {},
   "outputs": [],
   "source": [
    "import numpy as np\n",
    "from cleaning import clean_data, SMOTE_resample\n",
    "from evaluate import qwk\n",
    "from sklearn.neighbors import KNeighborsClassifier\n",
    "from sklearn.decomposition import PCA\n",
    "from sklearn.feature_selection import SelectKBest, VarianceThreshold\n",
    "from sklearn.metrics import classification_report, cohen_kappa_score\n",
    "from sklearn.model_selection import RandomizedSearchCV\n",
    "import matplotlib.pyplot as plt"
   ]
  },
  {
   "cell_type": "code",
   "execution_count": 6,
   "metadata": {},
   "outputs": [
    {
     "name": "stdout",
     "output_type": "stream",
     "text": [
      "Training = (14689, 335)\n",
      "Testing = (6296, 335)\n"
     ]
    }
   ],
   "source": [
    "# Load Data\n",
    "X_train, y_train, X_test, y_test = clean_data('')\n",
    "\n",
    "# SMOTE Resample\n",
    "X_train, y_train, X_test, y_test = SMOTE_resample(X_train, y_train, X_test, y_test)\n",
    "\n",
    "print(f'Training = {X_train.shape}')\n",
    "print(f'Testing = {X_test.shape}')"
   ]
  },
  {
   "cell_type": "code",
   "execution_count": 4,
   "metadata": {},
   "outputs": [
    {
     "name": "stdout",
     "output_type": "stream",
     "text": [
      "Best Parameters = {'weights': 'distance', 'p': 1, 'n_neighbors': 5, 'leaf_size': 30}\n",
      "Best Score = 0.5082030236821886\n"
     ]
    }
   ],
   "source": [
    "# KNN Classifier\n",
    "nn = [5, 10, 25, 50]\n",
    "weights = ['uniform', 'distance']\n",
    "leaf_sizes = [15, 30, 45]\n",
    "ps = [1, 2, 3, 4, 5]\n",
    "\n",
    "random_grid = {\n",
    "    \"n_neighbors\": nn,\n",
    "    \"weights\": weights,\n",
    "    \"leaf_size\": leaf_sizes,\n",
    "    \"p\": ps,\n",
    "}\n",
    "\n",
    "knn = KNeighborsClassifier()\n",
    "knn_random = RandomizedSearchCV(estimator=knn, param_distributions=random_grid, n_iter=25, cv=3, verbose=0, n_jobs=-1, error_score=np.NINF)\n",
    "knn_random.fit(X_train, y_train)\n",
    "print(f'Best Parameters = {knn_random.best_params_}')\n",
    "print(f'Best Score = {knn_random.best_score_}')"
   ]
  },
  {
   "cell_type": "code",
   "execution_count": 5,
   "metadata": {},
   "outputs": [
    {
     "name": "stdout",
     "output_type": "stream",
     "text": [
      "Train Score = 0.9928517938593505\n",
      "Test Score = 0.5336721728081322\n",
      "QWK = 0.9999999900715117\n",
      "Cohens Kappa Score = 0.41707783026461553\n"
     ]
    }
   ],
   "source": [
    "# Best parameters\n",
    "# best_params = {'weights': 'distance', 'p': 1, 'n_neighbors': 5, 'leaf_size': 30}\n",
    "best_params = knn_random.best_params_\n",
    "knn = KNeighborsClassifier(weights=best_params['weights'], p=best_params['p'], n_neighbors=best_params['n_neighbors'], leaf_size=best_params['leaf_size'])\n",
    "knn.fit(X_train, y_train)\n",
    "y_pred = knn.predict(X_test)\n",
    "print(f'Train Score = {knn.score(X_train, y_train)}')\n",
    "print(f'Test Score = {knn.score(X_test, y_test)}')\n",
    "print(f'QWK = {qwk(y_test, y_pred)}')\n",
    "print(f'Cohens Kappa Score = {cohen_kappa_score(y_test, y_pred)}')\n"
   ]
  },
  {
   "cell_type": "code",
   "execution_count": 12,
   "metadata": {},
   "outputs": [
    {
     "name": "stderr",
     "output_type": "stream",
     "text": [
      "c:\\Users\\Noah\\AppData\\Local\\Programs\\Python\\Python39\\lib\\site-packages\\sklearn\\feature_selection\\_univariate_selection.py:112: UserWarning: Features [ 38  69  94 121 129 139 170 183 211 253 259 262 273] are constant.\n",
      "  warnings.warn(\"Features %s are constant.\" % constant_features_idx, UserWarning)\n",
      "c:\\Users\\Noah\\AppData\\Local\\Programs\\Python\\Python39\\lib\\site-packages\\sklearn\\feature_selection\\_univariate_selection.py:113: RuntimeWarning: invalid value encountered in true_divide\n",
      "  f = msb / msw\n"
     ]
    }
   ],
   "source": [
    "# PCA Decomposition\n",
    "pca = PCA(n_components=50, svd_solver='auto')\n",
    "pcaX_train = pca.fit_transform(X_train)\n",
    "pcaX_test = pca.transform(X_test)\n",
    "\n",
    "# Select K Best\n",
    "kb = SelectKBest()\n",
    "kbX_train = kb.fit_transform(X_train, y_train)\n",
    "kbX_test = kb.transform(X_test)\n",
    "\n",
    "# Variance Threshold\n",
    "vt = VarianceThreshold(threshold=(.8 * (1 - .8)))\n",
    "vtX_train = vt.fit_transform(X_train, y_train)\n",
    "vtX_test = vt.transform(X_test)"
   ]
  },
  {
   "cell_type": "code",
   "execution_count": 15,
   "metadata": {},
   "outputs": [
    {
     "data": {
      "image/png": "[encoded data removed]",
      "text/plain": [
       "<Figure size 432x288 with 1 Axes>"
      ]
     },
     "metadata": {
      "needs_background": "light"
     },
     "output_type": "display_data"
    }
   ],
   "source": [
    "# Feature Selection\n",
    "dataLabels = ['No Selection', 'PCA', 'Variance Threshold', 'K Best']\n",
    "data = [(X_train, X_test), (pcaX_train, pcaX_test), (vtX_train, vtX_test), (kbX_train, kbX_test)]\n",
    "\n",
    "trainScores = []\n",
    "testScores = []\n",
    "for i, label in enumerate(dataLabels):\n",
    "    xtrain, xtest = data[i]\n",
    "    knn = KNeighborsClassifier(weights=best_params['weights'], p=best_params['p'], n_neighbors=best_params['n_neighbors'], leaf_size=best_params['leaf_size'])\n",
    "    knn.fit(xtrain, y_train)\n",
    "    trainScores.append(knn.score(xtrain, y_train))\n",
    "    testScores.append(knn.score(xtest, y_test))\n",
    "\n",
    "plt.plot(dataLabels, trainScores, label='Train Scores')\n",
    "plt.plot(dataLabels, testScores, label='Test Scores')\n",
    "plt.title(f'Accuracy vs Feature Selection Methods for KNN')\n",
    "plt.xlabel('Feature Selection')\n",
    "plt.ylabel('Accuracy')\n",
    "plt.legend(loc='upper right')\n",
    "plt.show()"
   ]
  }
 ],
 "metadata": {
  "kernelspec": {
   "display_name": "Python 3.9.7 64-bit",
   "language": "python",
   "name": "python3"
  },
  "language_info": {
   "codemirror_mode": {
    "name": "ipython",
    "version": 3
   },
   "file_extension": ".py",
   "mimetype": "text/x-python",
   "name": "python",
   "nbconvert_exporter": "python",
   "pygments_lexer": "ipython3",
   "version": "3.9.7"
  },
  "orig_nbformat": 4,
  "vscode": {
   "interpreter": {
    "hash": "01d0cb7c327463eecb8fc8bad5ed81fd0990729e8fadceb930c98fb3d974e263"
   }
  }
 },
 "nbformat": 4,
 "nbformat_minor": 2
}
