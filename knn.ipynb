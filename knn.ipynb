{
 "cells": [
  {
   "cell_type": "code",
   "execution_count": 5,
   "metadata": {},
   "outputs": [],
   "source": [
    "import numpy as np\n",
    "from data import load_data\n",
    "from evaluate import qwk\n",
    "\n",
    "from sklearn.model_selection import train_test_split\n",
    "from sklearn.neighbors import KNeighborsClassifier\n",
    "from sklearn.decomposition import PCA"
   ]
  },
  {
   "cell_type": "code",
   "execution_count": 6,
   "metadata": {},
   "outputs": [
    {
     "name": "stdout",
     "output_type": "stream",
     "text": [
      "Training = (10495, 361)\n",
      "Testing = (4498, 361)\n"
     ]
    }
   ],
   "source": [
    "# Load Data\n",
    "X_train, y_train, X_test, y_test, X_predict = load_data()\n",
    "\n",
    "print(f'Training = {X_train.shape}')\n",
    "print(f'Testing = {X_test.shape}')"
   ]
  },
  {
   "cell_type": "code",
   "execution_count": 7,
   "metadata": {},
   "outputs": [
    {
     "data": {
      "text/plain": [
       "array([[ 4.22448772e-02,  1.93821352e-01, -1.08535106e+00, ...,\n",
       "         1.87070003e-04,  9.64324958e-06, -3.71206741e-05],\n",
       "       [-2.52345222e+00,  5.45596564e-02, -1.66622267e-01, ...,\n",
       "         9.97639698e-04,  6.43352482e-04, -1.20312393e-03],\n",
       "       [-6.58174938e-01,  1.80595477e+00,  6.25167914e-01, ...,\n",
       "        -1.05264460e-06,  1.25182470e-04, -2.63706020e-04],\n",
       "       ...,\n",
       "       [ 1.38845812e+00, -8.72829339e-01, -8.52830309e-01, ...,\n",
       "        -1.49248178e-03, -1.67811458e-03, -5.48659175e-04],\n",
       "       [-1.35463190e+00,  1.07392496e+00, -1.16766365e+00, ...,\n",
       "         8.77399722e-04, -1.78089371e-03, -1.56412560e-03],\n",
       "       [-1.17805036e+00,  4.53818550e-01,  8.52469379e-01, ...,\n",
       "        -7.80352993e-04,  6.57533044e-04,  6.90623920e-04]])"
      ]
     },
     "execution_count": 7,
     "metadata": {},
     "output_type": "execute_result"
    }
   ],
   "source": [
    "pca = PCA(n_components=250, svd_solver='auto')\n",
    "pca.fit_transform(X_train)"
   ]
  },
  {
   "cell_type": "code",
   "execution_count": 8,
   "metadata": {},
   "outputs": [
    {
     "name": "stdout",
     "output_type": "stream",
     "text": [
      "---------- KNN Classifier ----------\n",
      "Train Accuracy: 0.5434969032872796\n",
      "Testing Accuracy: 0.32592263228101376\n",
      "0.9999999592616469\n"
     ]
    }
   ],
   "source": [
    "# KNN Classifier\n",
    "print('---------- KNN Classifier ----------')\n",
    "k = 5\n",
    "knn = KNeighborsClassifier(n_neighbors=k)\n",
    "knn.fit(X_train, y_train)\n",
    "\n",
    "\n",
    "\n",
    "print(f'Train Accuracy: {knn.score(X_train, y_train)}')\n",
    "print(f'Testing Accuracy: {knn.score(X_test, y_test)}')\n",
    "y_pred = knn.predict(X_test)\n",
    "print(qwk(y_test, y_pred))\n",
    "\n"
   ]
  }
 ],
 "metadata": {
  "kernelspec": {
   "display_name": "Python 3.9.7 64-bit",
   "language": "python",
   "name": "python3"
  },
  "language_info": {
   "codemirror_mode": {
    "name": "ipython",
    "version": 3
   },
   "file_extension": ".py",
   "mimetype": "text/x-python",
   "name": "python",
   "nbconvert_exporter": "python",
   "pygments_lexer": "ipython3",
   "version": "3.9.7"
  },
  "orig_nbformat": 4,
  "vscode": {
   "interpreter": {
    "hash": "01d0cb7c327463eecb8fc8bad5ed81fd0990729e8fadceb930c98fb3d974e263"
   }
  }
 },
 "nbformat": 4,
 "nbformat_minor": 2
}
