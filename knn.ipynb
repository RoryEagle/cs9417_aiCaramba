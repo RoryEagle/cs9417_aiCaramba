{
 "cells": [
  {
   "cell_type": "code",
   "execution_count": 1,
   "metadata": {},
   "outputs": [],
   "source": [
    "import numpy as np\n",
    "from cleaning import clean_data, SMOTE_resample\n",
    "from sklearn.neighbors import KNeighborsClassifier\n",
    "from sklearn.decomposition import PCA\n",
    "from sklearn.feature_selection import SelectKBest, VarianceThreshold\n",
    "from sklearn.metrics import cohen_kappa_score, make_scorer\n",
    "from sklearn.model_selection import RandomizedSearchCV\n",
    "import matplotlib.pyplot as plt\n",
    "from sklearn.ensemble import BaggingClassifier"
   ]
  },
  {
   "cell_type": "code",
   "execution_count": 2,
   "metadata": {},
   "outputs": [],
   "source": [
    "# Load Data\n",
    "X_train, y_train, X_test, y_test = clean_data('')\n",
    "\n",
    "# SMOTE Resample\n",
    "X_train, y_train = SMOTE_resample(X_train, y_train)"
   ]
  },
  {
   "cell_type": "code",
   "execution_count": 4,
   "metadata": {},
   "outputs": [
    {
     "name": "stdout",
     "output_type": "stream",
     "text": [
      "Best Parameters = {'n_neighbors': 5, 'leaf_size': 20}\n",
      "Best Score = 0.6287348495451137\n"
     ]
    }
   ],
   "source": [
    "# KNN Classifier\n",
    "nn = [5, 15, 25, 35]\n",
    "leaf_sizes = [20, 30, 40]\n",
    "\n",
    "random_grid = {\n",
    "    \"n_neighbors\": nn,\n",
    "    \"leaf_size\": leaf_sizes,\n",
    "}\n",
    "\n",
    "kappa_scorer = make_scorer(cohen_kappa_score, weights='quadratic')\n",
    "knn = KNeighborsClassifier(p=1, weights='distance')\n",
    "knn_random = RandomizedSearchCV(estimator=knn, param_distributions=random_grid, n_iter=6, cv=5, verbose=0, n_jobs=-1, error_score=np.NINF, scoring=kappa_scorer)\n",
    "knn_random.fit(X_train, y_train)\n",
    "print(f'Best Parameters = {knn_random.best_params_}')\n",
    "print(f'Best Score = {knn_random.best_score_}')"
   ]
  },
  {
   "cell_type": "code",
   "execution_count": 5,
   "metadata": {},
   "outputs": [
    {
     "name": "stdout",
     "output_type": "stream",
     "text": [
      "Train Score = 0.9897243960530793\n",
      "Test Score = 0.31658514895509116\n",
      "Cohens Kappa Score = 0.1550989423671595\n"
     ]
    }
   ],
   "source": [
    "# Best parameters\n",
    "best_params = {'n_neighbors': 5, 'leaf_size': 20}\n",
    "# best_params = knn_random.best_params_\n",
    "knn = KNeighborsClassifier(weights='distance', p=1, n_neighbors=best_params['n_neighbors'], leaf_size=best_params['leaf_size'])\n",
    "knn.fit(X_train, y_train)\n",
    "y_pred = knn.predict(X_test)\n",
    "print(f'Train Score = {knn.score(X_train, y_train)}')\n",
    "print(f'Test Score = {knn.score(X_test, y_test)}')\n",
    "kappa = cohen_kappa_score(y_test, y_pred, weights='quadratic')\n",
    "print(f'Cohens Kappa Score = {kappa}')\n"
   ]
  },
  {
   "cell_type": "code",
   "execution_count": 14,
   "metadata": {},
   "outputs": [],
   "source": [
    "# Feature selection\n",
    "# PCA\n",
    "pca = PCA(n_components=15, svd_solver='full')\n",
    "pcaX_train = pca.fit_transform(X_train)\n",
    "pcaX_test = pca.transform(X_test)\n",
    "\n",
    "# Select K Best\n",
    "kb = SelectKBest()\n",
    "kbX_train = kb.fit_transform(X_train, y_train)\n",
    "kbX_test = kb.transform(X_test)\n",
    "\n",
    "# Variance Threshold\n",
    "vt = VarianceThreshold(threshold=(.8 * (1 - .8)))\n",
    "vtX_train = vt.fit_transform(X_train, y_train)\n",
    "vtX_test = vt.transform(X_test)"
   ]
  },
  {
   "cell_type": "code",
   "execution_count": 15,
   "metadata": {},
   "outputs": [
    {
     "data": {
      "image/png": "[encoded data removed]",
      "text/plain": [
       "<Figure size 432x288 with 1 Axes>"
      ]
     },
     "metadata": {
      "needs_background": "light"
     },
     "output_type": "display_data"
    }
   ],
   "source": [
    "# Feature Selection\n",
    "dataLabels = ['No Selection', 'PCA', 'Variance Threshold', 'K Best']\n",
    "data = [(X_train, X_test), (pcaX_train, pcaX_test), (vtX_train, vtX_test), (kbX_train, kbX_test)]\n",
    "\n",
    "trainScores = []\n",
    "testScores = []\n",
    "for i, label in enumerate(dataLabels):\n",
    "    xtrain, xtest = data[i]\n",
    "    knn = KNeighborsClassifier(weights='distance', p=1, n_neighbors=5, leaf_size=20)\n",
    "    knn.fit(xtrain, y_train)\n",
    "    trainScores.append(knn.score(xtrain, y_train))\n",
    "    testScores.append(knn.score(xtest, y_test))\n",
    "\n",
    "plt.plot(dataLabels, trainScores, label='Train Scores')\n",
    "plt.plot(dataLabels, testScores, label='Test Scores')\n",
    "plt.title(f'Accuracy vs Feature Selection Methods for KNN')\n",
    "plt.xlabel('Feature Selection')\n",
    "plt.ylabel('Accuracy')\n",
    "plt.legend(loc='upper right')\n",
    "plt.show()"
   ]
  },
  {
   "cell_type": "code",
   "execution_count": 18,
   "metadata": {},
   "outputs": [
    {
     "name": "stdout",
     "output_type": "stream",
     "text": [
      "Train Score = 0.9902007485539299\n",
      "Test Score = 0.30346820809248554\n",
      "Cohens Kappa Score = 0.1619132195055275\n"
     ]
    }
   ],
   "source": [
    "# Retrain KNN Classifier with PCA\n",
    "knn = KNeighborsClassifier(weights='distance', p=1, n_neighbors=5, leaf_size=20)\n",
    "knn.fit(pcaX_train, y_train)\n",
    "y_pred = knn.predict(pcaX_test)\n",
    "print(f'Train Score = {knn.score(pcaX_train, y_train)}')\n",
    "print(f'Test Score = {knn.score(pcaX_test, y_test)}')\n",
    "kappa = cohen_kappa_score(y_test, y_pred, weights='quadratic')\n",
    "print(f'Cohens Kappa Score = {kappa}')"
   ]
  },
  {
   "cell_type": "code",
   "execution_count": 17,
   "metadata": {},
   "outputs": [
    {
     "name": "stdout",
     "output_type": "stream",
     "text": [
      "Train Score = 0.9869343314052399\n",
      "Test Score = 0.30902623388172523\n",
      "Cohens Kappa Score = 0.1697706789041784\n"
     ]
    }
   ],
   "source": [
    "# Bagging Classifier (probably isnt great)\n",
    "bc = BaggingClassifier(base_estimator=knn, n_estimators=20, n_jobs=-1)\n",
    "bc.fit(pcaX_train, y_train)\n",
    "y_pred = bc.predict(pcaX_test)\n",
    "print(f'Train Score = {bc.score(pcaX_train, y_train)}')\n",
    "print(f'Test Score = {bc.score(pcaX_test, y_test)}')\n",
    "kappa = cohen_kappa_score(y_test, y_pred, weights='quadratic')\n",
    "print(f'Cohens Kappa Score = {kappa}')"
   ]
  }
 ],
 "metadata": {
  "kernelspec": {
   "display_name": "Python 3.9.7 64-bit",
   "language": "python",
   "name": "python3"
  },
  "language_info": {
   "codemirror_mode": {
    "name": "ipython",
    "version": 3
   },
   "file_extension": ".py",
   "mimetype": "text/x-python",
   "name": "python",
   "nbconvert_exporter": "python",
   "pygments_lexer": "ipython3",
   "version": "3.9.7"
  },
  "orig_nbformat": 4,
  "vscode": {
   "interpreter": {
    "hash": "01d0cb7c327463eecb8fc8bad5ed81fd0990729e8fadceb930c98fb3d974e263"
   }
  }
 },
 "nbformat": 4,
 "nbformat_minor": 2
}
