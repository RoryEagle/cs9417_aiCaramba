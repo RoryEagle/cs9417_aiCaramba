{
 "cells": [
  {
   "cell_type": "code",
   "execution_count": 10,
   "metadata": {},
   "outputs": [],
   "source": [
    "import pandas as pd\n",
    "from sklearn.preprocessing import OneHotEncoder, StandardScaler\n",
    "from sklearn.model_selection import train_test_split\n"
   ]
  },
  {
   "cell_type": "code",
   "execution_count": 60,
   "metadata": {},
   "outputs": [],
   "source": [
    "#load the train.csv file into a dataframe\n",
    "df = pd.read_csv('./petfinder-adoption-prediction/train/train.csv')\n",
    "#drop text/object features from train\n",
    "df = df.drop(['Name', 'RescuerID', 'Description','PetID'], axis = 1)\n",
    "\n",
    "#categorise the features into nominal (categorical) or numerical features\n",
    "nominal_features = ['Type', 'Breed1', 'Breed2', 'Gender', 'Color1', 'Color2', 'Color3', 'State']\n",
    "numerical_features = ['Age', 'MaturitySize', 'FurLength', 'Vaccinated', 'Dewormed',\n",
    "       'Sterilized', 'Health', 'Quantity', 'Fee', 'VideoAmt','PhotoAmt']\n",
    "\n",
    "#split the training.csv dataframe into 70% training, 30% testing with a fixed random state\n",
    "train, test = train_test_split(df, test_size = 0.3, random_state=123)\n",
    "\n",
    "#instantiate a OneHotEncoder that will output an array\n",
    "ohe = OneHotEncoder(sparse=False, handle_unknown = 'ignore')\n",
    "#fit the encoder to the trainins dataset\n",
    "#will keep the exploded categories for the testing dataset\n",
    "ohe.fit(train[nominal_features])\n",
    "\n",
    "#encode the nominal features of the training dataset and replace the non-encoded data\n",
    "train_nominal_encoded = ohe.transform(train[nominal_features])\n",
    "train_nominal_encoded = pd.DataFrame(train_nominal_encoded)\n",
    "train_nominal_encoded.columns = ohe.get_feature_names_out(nominal_features)\n",
    "\n",
    "train.drop(nominal_features, axis=1, inplace = True)\n",
    "#reset the indices to make a merge possible without NaN values appearing\n",
    "train_nominal_encoded.reset_index(drop=True, inplace = True)\n",
    "train.reset_index(drop = True, inplace = True)\n",
    "#append the encoded nominal columns to the training set\n",
    "train = pd.concat([train, train_nominal_encoded], axis = 1)\n",
    "\n",
    "#encode the nominal features of the testing dataset and replace the non-encoded data\n",
    "test_nominal_encoded = ohe.transform(test[nominal_features])\n",
    "test_nominal_encoded = pd.DataFrame(test_nominal_encoded)\n",
    "test_nominal_encoded.columns = ohe.get_feature_names_out(nominal_features)\n",
    "\n",
    "test.drop(nominal_features, axis=1, inplace = True)\n",
    "#reset the indices to make a merge possible without NaN values appearing\n",
    "test_nominal_encoded.reset_index(drop=True, inplace = True)\n",
    "test.reset_index(drop = True, inplace = True)\n",
    "#append the encoded nominal columns to the testing set\n",
    "test = pd.concat([test, test_nominal_encoded], axis = 1)\n",
    "\n",
    "#setup the scaler\n",
    "scaler = StandardScaler()\n",
    "\n",
    "#scale the numerical features of the train dataframe and replace the unscaled data\n",
    "train_numerical = train[numerical_features]\n",
    "train_numerical = scaler.fit_transform(train_numerical)\n",
    "train_numerical_df = pd.DataFrame(train_numerical, columns=numerical_features)\n",
    "\n",
    "train = train.drop(numerical_features, axis = 1)\n",
    "train = pd.concat([train, train_numerical_df], axis=1)\n",
    "\n",
    "#scale the numerical features of the test dataframe and replace the unscaled data\n",
    "test_numerical = test[numerical_features]\n",
    "test_numerical = scaler.fit_transform(test_numerical)\n",
    "test_numerical_df = pd.DataFrame(test_numerical, columns=numerical_features)\n",
    "\n",
    "test = test.drop(numerical_features, axis = 1)\n",
    "test = pd.concat([test, test_numerical_df], axis=1)\n",
    "\n",
    "X_train = train.drop(['AdoptionSpeed'],axis=1).values\n",
    "Y_train = train['AdoptionSpeed'].values\n",
    "X_test = test.drop(['AdoptionSpeed'], axis = 1).values\n",
    "Y_test = test['AdoptionSpeed'].values"
   ]
  }
 ],
 "metadata": {
  "kernelspec": {
   "display_name": "Python 3.9.7 64-bit",
   "language": "python",
   "name": "python3"
  },
  "language_info": {
   "codemirror_mode": {
    "name": "ipython",
    "version": 3
   },
   "file_extension": ".py",
   "mimetype": "text/x-python",
   "name": "python",
   "nbconvert_exporter": "python",
   "pygments_lexer": "ipython3",
   "version": "3.9.7"
  },
  "orig_nbformat": 4,
  "vscode": {
   "interpreter": {
    "hash": "01d0cb7c327463eecb8fc8bad5ed81fd0990729e8fadceb930c98fb3d974e263"
   }
  }
 },
 "nbformat": 4,
 "nbformat_minor": 2
}
