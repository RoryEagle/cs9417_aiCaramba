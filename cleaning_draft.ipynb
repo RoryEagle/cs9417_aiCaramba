{
 "cells": [
  {
   "cell_type": "code",
   "execution_count": 96,
   "metadata": {},
   "outputs": [],
   "source": [
    "import pandas as pd\n",
    "from sklearn.preprocessing import OneHotEncoder, StandardScaler\n"
   ]
  },
  {
   "cell_type": "code",
   "execution_count": 112,
   "metadata": {},
   "outputs": [],
   "source": [
    "#load the train.csv file into a dataframe\n",
    "train = pd.read_csv('./petfinder-adoption-prediction/train/train.csv')\n",
    "#load the test.csv file into a dataframe\n",
    "test = pd.read_csv('./petfinder-adoption-prediction/test/test.csv')\n",
    "\n",
    "#drop text/object features from train\n",
    "train = train.drop(['Name', 'RescuerID', 'Description','PetID'], axis = 1)\n",
    "#drop text/object features from test\n",
    "test = test.drop(['Name', 'RescuerID', 'Description','PetID'], axis = 1)\n",
    "\n",
    "#categorise the features into nominal (categorical) or numerical features\n",
    "nominal_features = ['Type', 'Breed1', 'Breed2', 'Gender', 'Color1', 'Color2', 'Color3', 'State']\n",
    "numerical_features = ['Age', 'MaturitySize', 'FurLength', 'Vaccinated', 'Dewormed',\n",
    "       'Sterilized', 'Health', 'Quantity', 'Fee', 'VideoAmt','PhotoAmt']\n",
    "\n",
    "#instantiate a OneHotEncoder that will output an array\n",
    "ohe = OneHotEncoder(sparse=False)\n",
    "\n",
    "#TODO rewrite the nominal feature transformation to handle all nominal features at once\n",
    "#i.e only have one OneHotEncoder that can then be reused for the test dataset\n",
    "\n",
    "#for each nominal feature, transform it with the OneHotEncoder, and add it to the dataframe\n",
    "for nominal in nominal_features:\n",
    "    train_nominal_encoded = pd.DataFrame (ohe.fit_transform(train[[nominal]]))\n",
    "    train_nominal_encoded.columns = ohe.get_feature_names_out([nominal])\n",
    "        \n",
    "    train.drop([nominal] ,axis=1, inplace=True)\n",
    "    train = pd.concat([train, train_nominal_encoded ], axis=1)\n",
    "    \n",
    "    test_nominal_encoded = pd.DataFrame (ohe.fit_transform(test[[nominal]]))\n",
    "    test_nominal_encoded.columns = ohe.get_feature_names_out([nominal])\n",
    "        \n",
    "    test.drop([nominal] ,axis=1, inplace=True)\n",
    "    test = pd.concat([test, test_nominal_encoded ], axis=1)\n",
    "    \n",
    "#setup the scaler\n",
    "scaler = StandardScaler()\n",
    "\n",
    "#scale the numerical features of the train dataframe and replace the unscaled data\n",
    "train_numerical = train[numerical_features]\n",
    "train_numerical = scaler.fit_transform(train_numerical)\n",
    "train_numerical_df = pd.DataFrame(train_numerical, columns=numerical_features)\n",
    "\n",
    "train = train.drop(numerical_features, axis = 1)\n",
    "train = pd.concat([train, train_numerical_df], axis=1)\n",
    "\n",
    "#scale the numerical features of the test dataframe and replace the unscaled data\n",
    "test_numerical = test[numerical_features]\n",
    "test_numerical = scaler.fit_transform(test_numerical)\n",
    "test_numerical_df = pd.DataFrame(test_numerical, columns=numerical_features)\n",
    "\n",
    "test = test.drop(numerical_features, axis = 1)\n",
    "test = pd.concat([test, test_numerical_df], axis=1)"
   ]
  }
 ],
 "metadata": {
  "kernelspec": {
   "display_name": "Python 3.10.4 ('COMP9417')",
   "language": "python",
   "name": "python3"
  },
  "language_info": {
   "codemirror_mode": {
    "name": "ipython",
    "version": 3
   },
   "file_extension": ".py",
   "mimetype": "text/x-python",
   "name": "python",
   "nbconvert_exporter": "python",
   "pygments_lexer": "ipython3",
   "version": "3.10.4"
  },
  "orig_nbformat": 4,
  "vscode": {
   "interpreter": {
    "hash": "5bbb6214ddd65c57bd7a4b2ba1617f026bbfcc33128d2bfd25d4a61605172ea1"
   }
  }
 },
 "nbformat": 4,
 "nbformat_minor": 2
}
