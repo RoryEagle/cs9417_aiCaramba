{
 "cells": [
  {
   "cell_type": "code",
   "execution_count": 1,
   "metadata": {},
   "outputs": [],
   "source": [
    "import pandas as pd\n",
    "import numpy as np\n",
    "from sklearn.metrics import accuracy_score, confusion_matrix, cohen_kappa_score\n",
    "from sklearn.model_selection import RandomizedSearchCV\n",
    "import matplotlib.pyplot as plt\n",
    "\n",
    "import xgboost as xgb\n",
    "\n",
    "from cleaning import clean_data\n",
    "\n",
    "from sklearn.utils.class_weight import compute_sample_weight\n"
   ]
  },
  {
   "cell_type": "code",
   "execution_count": 2,
   "metadata": {},
   "outputs": [],
   "source": [
    "X_train, Y_train, X_test, Y_test = clean_data()\n",
    "sample_weights = compute_sample_weight(class_weight='balanced',y=Y_train)"
   ]
  },
  {
   "cell_type": "code",
   "execution_count": 3,
   "metadata": {},
   "outputs": [
    {
     "data": {
      "text/plain": [
       "\"model = xgb.XGBClassifier(\\n    learning_rate = 0.1,\\n    n_estimators = 1000,\\n    max_depth = 5,\\n    min_child_weight = 1,\\n    gamma = 0,\\n    subsample = 0.8,\\n    colsample_bytree = 0.8,\\n    objective = 'multi:softmax',\\n    num_class = 5,\\n)\\nxgb_param = model.get_xgb_params()\\ncvresult = xgb.cv(xgb_param, train, num_boost_round=model.get_params()['n_estimators'], nfold=5,\\n            metrics='auc', early_stopping_rounds=50)\\nmodel.set_params(n_estimators=cvresult.shape[0])\\nmodel.fit(X_train, Y_train)\\nY_pred = model.predict(X_test)\\nprint('Confusion Matrix\\n',confusion_matrix(Y_test, Y_pred))\\nprint('Cohen Kappa', cohen_kappa_score(Y_test, Y_pred, weights='quadratic'))\\nprint('Accuracy Score', accuracy_score(Y_test, Y_pred))\\nprint('MSE', mean_squared_error(Y_test, Y_pred))\""
      ]
     },
     "execution_count": 3,
     "metadata": {},
     "output_type": "execute_result"
    }
   ],
   "source": [
    "#for ideal number of estimatos\n",
    "'''model = xgb.XGBClassifier(\n",
    "    learning_rate = 0.1,\n",
    "    n_estimators = 1000,\n",
    "    max_depth = 5,\n",
    "    min_child_weight = 1,\n",
    "    gamma = 0,\n",
    "    subsample = 0.8,\n",
    "    colsample_bytree = 0.8,\n",
    "    objective = 'multi:softmax',\n",
    "    num_class = 5,\n",
    ")\n",
    "xgb_param = model.get_xgb_params()\n",
    "cvresult = xgb.cv(xgb_param, train, num_boost_round=model.get_params()['n_estimators'], nfold=5,\n",
    "            metrics='auc', early_stopping_rounds=50)\n",
    "model.set_params(n_estimators=cvresult.shape[0])\n",
    "model.fit(X_train, Y_train)\n",
    "Y_pred = model.predict(X_test)\n",
    "print('Confusion Matrix\\n',confusion_matrix(Y_test, Y_pred))\n",
    "print('Cohen Kappa', cohen_kappa_score(Y_test, Y_pred, weights='quadratic'))\n",
    "print('Accuracy Score', accuracy_score(Y_test, Y_pred))\n",
    "print('MSE', mean_squared_error(Y_test, Y_pred))'''"
   ]
  },
  {
   "cell_type": "code",
   "execution_count": 4,
   "metadata": {},
   "outputs": [
    {
     "data": {
      "text/plain": [
       "\"hyper_params = {'max_depth':range(1,10),\\n                'min_child_weight':range(1,6)}\\nsearch = RandomizedSearchCV(estimator=xgb.XGBClassifier(learning_rate = 0.1, n_estimators=141,\\n                                                        gamma=0, subsample=0.8, colsample_bytree=0.8,objective= 'multi:softmax'), \\n                            param_distributions = hyper_params, verbose = 1, cv = 5)\\nsearch.fit(X_train, Y_train)\\nprint(search.best_score_)\\nprint(search.best_estimator_)\""
      ]
     },
     "execution_count": 4,
     "metadata": {},
     "output_type": "execute_result"
    }
   ],
   "source": [
    "#for max_depth and min_child_weight\n",
    "'''hyper_params = {'max_depth':range(1,10),\n",
    "                'min_child_weight':range(1,6)}\n",
    "search = RandomizedSearchCV(estimator=xgb.XGBClassifier(learning_rate = 0.1, n_estimators=141,\n",
    "                                                        gamma=0, subsample=0.8, colsample_bytree=0.8,objective= 'multi:softmax'), \n",
    "                            param_distributions = hyper_params, verbose = 1, cv = 5)\n",
    "search.fit(X_train, Y_train)\n",
    "print(search.best_score_)\n",
    "print(search.best_estimator_)'''"
   ]
  },
  {
   "cell_type": "code",
   "execution_count": 5,
   "metadata": {},
   "outputs": [
    {
     "data": {
      "text/plain": [
       "\"hyper_params = {'subsample':[i/10.0 for i in range(6,10)],\\n                'colsample_bytree':[i/10.0 for i in range(6,10)]\\n                }\\nsearch = RandomizedSearchCV(estimator=xgb.XGBClassifier(learning_rate = 0.1, n_estimators=141, max_depth=5, min_child_weight=3, \\n                                                        gamma=0,objective= 'multi:softmax'), \\n                            param_distributions = hyper_params, verbose = 1, cv = 5)\\nsearch.fit(X_train, Y_train)\\nprint(search.best_score_)\\nprint(search.best_estimator_)\\n\""
      ]
     },
     "execution_count": 5,
     "metadata": {},
     "output_type": "execute_result"
    }
   ],
   "source": [
    "#for subsample and colsample_bytree\n",
    "'''hyper_params = {'subsample':[i/10.0 for i in range(6,10)],\n",
    "                'colsample_bytree':[i/10.0 for i in range(6,10)]\n",
    "                }\n",
    "search = RandomizedSearchCV(estimator=xgb.XGBClassifier(learning_rate = 0.1, n_estimators=141, max_depth=5, min_child_weight=3, \n",
    "                                                        gamma=0,objective= 'multi:softmax'), \n",
    "                            param_distributions = hyper_params, verbose = 1, cv = 5)\n",
    "search.fit(X_train, Y_train)\n",
    "print(search.best_score_)\n",
    "print(search.best_estimator_)\n",
    "'''"
   ]
  },
  {
   "cell_type": "code",
   "execution_count": 6,
   "metadata": {},
   "outputs": [
    {
     "name": "stdout",
     "output_type": "stream",
     "text": [
      "Confusion Matrix\n",
      " [[ 17  48  13  12  37]\n",
      " [ 87 381 133 129 177]\n",
      " [ 68 363 191 288 337]\n",
      " [ 55 216 116 270 302]\n",
      " [ 40 166 104 146 802]]\n",
      "Cohen Kappa 0.3235483169589657\n",
      "Train Accuracy Score 0.4971891376846117\n",
      "Test Accuracy Score 0.36927523343708313\n"
     ]
    }
   ],
   "source": [
    "#with sample_weights\n",
    "model = xgb.XGBClassifier(learning_rate = 0.1, n_estimators=141, max_depth=5,\n",
    "                            min_child_weight=3, gamma=0, subsample=0.8, colsample_bytree=0.8,objective= 'multi:softmax')\n",
    "model.fit(X_train, Y_train, sample_weight=sample_weights)\n",
    "Y_pred = model.predict(X_test)\n",
    "print('Confusion Matrix\\n',confusion_matrix(Y_test, Y_pred))\n",
    "print('Cohen Kappa', cohen_kappa_score(Y_test, Y_pred, weights='quadratic'))\n",
    "print('Train Accuracy Score', accuracy_score(Y_train, model.predict(X_train)))\n",
    "print('Test Accuracy Score', accuracy_score(Y_test, Y_pred))"
   ]
  },
  {
   "cell_type": "code",
   "execution_count": 7,
   "metadata": {},
   "outputs": [
    {
     "name": "stdout",
     "output_type": "stream",
     "text": [
      "Confusion Matrix\n",
      " [[  0  42  35   7  43]\n",
      " [  0 268 329  76 234]\n",
      " [  2 213 471 172 389]\n",
      " [  1 129 273 183 373]\n",
      " [  1  97 214  71 875]]\n",
      "Cohen Kappa 0.3196618557002461\n",
      "Train Accuracy Score 0.518913768461172\n",
      "Test Accuracy Score 0.39951089373054693\n"
     ]
    }
   ],
   "source": [
    "#without sample_weights\n",
    "model = xgb.XGBClassifier(learning_rate = 0.1, n_estimators=141, max_depth=5,\n",
    "                            min_child_weight=3, gamma=0, subsample=0.8, colsample_bytree=0.8,objective= 'multi:softmax')\n",
    "model.fit(X_train, Y_train)\n",
    "Y_pred = model.predict(X_test)\n",
    "print('Confusion Matrix\\n',confusion_matrix(Y_test, Y_pred))\n",
    "print('Cohen Kappa', cohen_kappa_score(Y_test, Y_pred, weights='quadratic'))\n",
    "print('Train Accuracy Score', accuracy_score(Y_train, model.predict(X_train)))\n",
    "print('Test Accuracy Score', accuracy_score(Y_test, Y_pred))"
   ]
  },
  {
   "cell_type": "code",
   "execution_count": null,
   "metadata": {},
   "outputs": [],
   "source": []
  }
 ],
 "metadata": {
  "kernelspec": {
   "display_name": "Python 3.10.4 ('COMP9417')",
   "language": "python",
   "name": "python3"
  },
  "language_info": {
   "codemirror_mode": {
    "name": "ipython",
    "version": 3
   },
   "file_extension": ".py",
   "mimetype": "text/x-python",
   "name": "python",
   "nbconvert_exporter": "python",
   "pygments_lexer": "ipython3",
   "version": "3.10.4"
  },
  "orig_nbformat": 4,
  "vscode": {
   "interpreter": {
    "hash": "5bbb6214ddd65c57bd7a4b2ba1617f026bbfcc33128d2bfd25d4a61605172ea1"
   }
  }
 },
 "nbformat": 4,
 "nbformat_minor": 2
}
