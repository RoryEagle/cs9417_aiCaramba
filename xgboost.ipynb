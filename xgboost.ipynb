{
 "cells": [
  {
   "cell_type": "code",
   "execution_count": 1,
   "metadata": {},
   "outputs": [],
   "source": [
    "import pandas as pd\n",
    "import numpy as np\n",
    "from sklearn.metrics import accuracy_score, mean_squared_error, confusion_matrix, cohen_kappa_score\n",
    "from sklearn.model_selection import RandomizedSearchCV\n",
    "import matplotlib.pyplot as plt\n",
    "\n",
    "import xgboost as xgb\n",
    "\n",
    "from cleaning import clean_data"
   ]
  },
  {
   "cell_type": "code",
   "execution_count": 2,
   "metadata": {},
   "outputs": [],
   "source": [
    "X_train, Y_train, X_test, Y_test = clean_data('./petfinder-adoption-prediction/train/train.csv')\n",
    "train = xgb.DMatrix(X_train, label = Y_train)\n",
    "test = xgb.DMatrix(X_test, label = Y_test)"
   ]
  },
  {
   "cell_type": "code",
   "execution_count": 3,
   "metadata": {},
   "outputs": [
    {
     "data": {
      "text/plain": [
       "\"params = {\\n    'max_depth' : 6,\\n    'eta' : 0.3,\\n    'objective' : 'multi:softmax',\\n    'num_class':5\\n}\\nepochs = 25\\nmodel = xgb.train(params, train, epochs)\\nY_pred = model.predict(test)\""
      ]
     },
     "execution_count": 3,
     "metadata": {},
     "output_type": "execute_result"
    }
   ],
   "source": [
    "'''params = {\n",
    "    'max_depth' : 6,\n",
    "    'eta' : 0.3,\n",
    "    'objective' : 'multi:softmax',\n",
    "    'num_class':5\n",
    "}\n",
    "epochs = 25\n",
    "model = xgb.train(params, train, epochs)\n",
    "Y_pred = model.predict(test)'''"
   ]
  },
  {
   "cell_type": "code",
   "execution_count": 4,
   "metadata": {},
   "outputs": [
    {
     "data": {
      "text/plain": [
       "\"hyper_params = {\\n    'learning_rate': np.arange(0.01, 0.5, 0.05),\\n    'max_depth':range(3,10),\\n    'colsample_bytree' : np.arange(0.5, 1, 0.05),\\n    'objective': ['multi:softmax'],\\n    'num_class':[5],\\n}\\n\\nmodel = xgb.XGBClassifier()\\nsearch = RandomizedSearchCV(model, param_distributions=hyper_params, n_iter=30, cv=3)\\nsearch.fit(X_train, Y_train)\""
      ]
     },
     "execution_count": 4,
     "metadata": {},
     "output_type": "execute_result"
    }
   ],
   "source": [
    "'''hyper_params = {\n",
    "    'learning_rate': np.arange(0.01, 0.5, 0.05),\n",
    "    'max_depth':range(3,10),\n",
    "    'colsample_bytree' : np.arange(0.5, 1, 0.05),\n",
    "    'objective': ['multi:softmax'],\n",
    "    'num_class':[5],\n",
    "}\n",
    "\n",
    "model = xgb.XGBClassifier()\n",
    "search = RandomizedSearchCV(model, param_distributions=hyper_params, n_iter=30, cv=3)\n",
    "search.fit(X_train, Y_train)'''"
   ]
  },
  {
   "cell_type": "code",
   "execution_count": 5,
   "metadata": {},
   "outputs": [
    {
     "data": {
      "text/plain": [
       "\"model = xgb.XGBClassifier(\\n    learning_rate = 0.1,\\n    n_estimators = 1000,\\n    max_depth = 5,\\n    min_child_weight = 1,\\n    gamma = 0,\\n    subsample = 0.8,\\n    colsample_bytree = 0.8,\\n    objective = 'multi:softmax',\\n    num_class = 5,\\n)\\nxgb_param = model.get_xgb_params()\\ncvresult = xgb.cv(xgb_param, train, num_boost_round=model.get_params()['n_estimators'], nfold=5,\\n            metrics='auc', early_stopping_rounds=50)\\nmodel.set_params(n_estimators=cvresult.shape[0])\\nmodel.fit(X_train, Y_train)\\nY_pred = model.predict(X_test)\""
      ]
     },
     "execution_count": 5,
     "metadata": {},
     "output_type": "execute_result"
    }
   ],
   "source": [
    "'''model = xgb.XGBClassifier(\n",
    "    learning_rate = 0.1,\n",
    "    n_estimators = 1000,\n",
    "    max_depth = 5,\n",
    "    min_child_weight = 1,\n",
    "    gamma = 0,\n",
    "    subsample = 0.8,\n",
    "    colsample_bytree = 0.8,\n",
    "    objective = 'multi:softmax',\n",
    "    num_class = 5,\n",
    ")\n",
    "xgb_param = model.get_xgb_params()\n",
    "cvresult = xgb.cv(xgb_param, train, num_boost_round=model.get_params()['n_estimators'], nfold=5,\n",
    "            metrics='auc', early_stopping_rounds=50)\n",
    "model.set_params(n_estimators=cvresult.shape[0])\n",
    "model.fit(X_train, Y_train)\n",
    "Y_pred = model.predict(X_test)'''"
   ]
  },
  {
   "cell_type": "code",
   "execution_count": 6,
   "metadata": {},
   "outputs": [
    {
     "data": {
      "text/plain": [
       "\"hyper_params = {'max_depth':range(1,10),\\n                'min_child_weight':range(1,6)}\\nsearch = RandomizedSearchCV(estimator=xgb.XGBClassifier(learning_rate = 0.1, n_estimators=141,\\n                                                        gamma=0, subsample=0.8, colsample_bytree=0.8,objective= 'multi:softmax'), \\n                            param_distributions = hyper_params, verbose = 1, cv = 5)\\nsearch.fit(X_train, Y_train)\\nprint(search.best_score_)\\nprint(search.best_estimator_)\""
      ]
     },
     "execution_count": 6,
     "metadata": {},
     "output_type": "execute_result"
    }
   ],
   "source": [
    "'''hyper_params = {'max_depth':range(1,10),\n",
    "                'min_child_weight':range(1,6)}\n",
    "search = RandomizedSearchCV(estimator=xgb.XGBClassifier(learning_rate = 0.1, n_estimators=141,\n",
    "                                                        gamma=0, subsample=0.8, colsample_bytree=0.8,objective= 'multi:softmax'), \n",
    "                            param_distributions = hyper_params, verbose = 1, cv = 5)\n",
    "search.fit(X_train, Y_train)\n",
    "print(search.best_score_)\n",
    "print(search.best_estimator_)'''"
   ]
  },
  {
   "cell_type": "code",
   "execution_count": 7,
   "metadata": {},
   "outputs": [
    {
     "data": {
      "text/plain": [
       "\"hyper_params = {'gamma':[i/10.0 for i in range(0,5)]}\\nsearch = RandomizedSearchCV(estimator=xgb.XGBClassifier(learning_rate = 0.1, n_estimators=141, max_depth=5, min_child_weight=3, \\n                                                        subsample=0.8, colsample_bytree=0.8,objective= 'multi:softmax'), \\n                            param_distributions = hyper_params, verbose = 1, cv = 5)\\nsearch.fit(X_train, Y_train)\\nprint(search.best_score_)\\nprint(search.best_estimator_)\""
      ]
     },
     "execution_count": 7,
     "metadata": {},
     "output_type": "execute_result"
    }
   ],
   "source": [
    "'''hyper_params = {'gamma':[i/10.0 for i in range(0,5)]}\n",
    "search = RandomizedSearchCV(estimator=xgb.XGBClassifier(learning_rate = 0.1, n_estimators=141, max_depth=5, min_child_weight=3, \n",
    "                                                        subsample=0.8, colsample_bytree=0.8,objective= 'multi:softmax'), \n",
    "                            param_distributions = hyper_params, verbose = 1, cv = 5)\n",
    "search.fit(X_train, Y_train)\n",
    "print(search.best_score_)\n",
    "print(search.best_estimator_)'''"
   ]
  },
  {
   "cell_type": "code",
   "execution_count": 8,
   "metadata": {},
   "outputs": [
    {
     "data": {
      "text/plain": [
       "\"hyper_params = {'subsample':[i/10.0 for i in range(6,10)],\\n                'colsample_bytree':[i/10.0 for i in range(6,10)]\\n                }\\nsearch = RandomizedSearchCV(estimator=xgb.XGBClassifier(learning_rate = 0.1, n_estimators=141, max_depth=5, min_child_weight=3, \\n                                                        gamma =0.4,objective= 'multi:softmax'), \\n                            param_distributions = hyper_params, verbose = 1, cv = 5)\\nsearch.fit(X_train, Y_train)\\nprint(search.best_score_)\\nprint(search.best_estimator_)\\n\""
      ]
     },
     "execution_count": 8,
     "metadata": {},
     "output_type": "execute_result"
    }
   ],
   "source": [
    "'''hyper_params = {'subsample':[i/10.0 for i in range(6,10)],\n",
    "                'colsample_bytree':[i/10.0 for i in range(6,10)]\n",
    "                }\n",
    "search = RandomizedSearchCV(estimator=xgb.XGBClassifier(learning_rate = 0.1, n_estimators=141, max_depth=5, min_child_weight=3, \n",
    "                                                        gamma =0.4,objective= 'multi:softmax'), \n",
    "                            param_distributions = hyper_params, verbose = 1, cv = 5)\n",
    "search.fit(X_train, Y_train)\n",
    "print(search.best_score_)\n",
    "print(search.best_estimator_)\n",
    "'''"
   ]
  },
  {
   "cell_type": "code",
   "execution_count": 9,
   "metadata": {},
   "outputs": [],
   "source": [
    "model = xgb.XGBClassifier(learning_rate = 0.1, n_estimators=141, max_depth=5,\n",
    "                            min_child_weight=3, gamma=0, subsample=0.8, colsample_bytree=0.8,objective= 'multi:softmax')\n",
    "model.fit(X_train, Y_train)\n",
    "Y_pred = model.predict(X_test)"
   ]
  },
  {
   "cell_type": "code",
   "execution_count": 10,
   "metadata": {},
   "outputs": [
    {
     "name": "stdout",
     "output_type": "stream",
     "text": [
      "Confusion Matrix\n",
      " [[  0  42  35   7  43]\n",
      " [  0 268 329  76 234]\n",
      " [  2 213 471 172 389]\n",
      " [  1 129 273 183 373]\n",
      " [  1  97 214  71 875]]\n",
      "Cohen Kappa 0.3196618557002461\n",
      "Accuracy Score 0.39951089373054693\n",
      "MSE 1.9137394397510004\n"
     ]
    }
   ],
   "source": [
    "print('Confusion Matrix\\n',confusion_matrix(Y_test, Y_pred))\n",
    "print('Cohen Kappa', cohen_kappa_score(Y_test, Y_pred, weights='quadratic'))\n",
    "print('Accuracy Score', accuracy_score(Y_test, Y_pred))\n",
    "print('MSE', mean_squared_error(Y_test, Y_pred))"
   ]
  },
  {
   "cell_type": "code",
   "execution_count": 11,
   "metadata": {},
   "outputs": [
    {
     "data": {
      "text/plain": [
       "[163,\n",
       " 1,\n",
       " 329,\n",
       " 324,\n",
       " 310,\n",
       " 315,\n",
       " 126,\n",
       " 0,\n",
       " 286,\n",
       " 331,\n",
       " 334,\n",
       " 37,\n",
       " 220,\n",
       " 313,\n",
       " 235,\n",
       " 145,\n",
       " 268,\n",
       " 108,\n",
       " 143,\n",
       " 270]"
      ]
     },
     "execution_count": 11,
     "metadata": {},
     "output_type": "execute_result"
    }
   ],
   "source": [
    "#print(model.feature_importances_)\n",
    "sorted(range(len(model.feature_importances_)), key=lambda i: model.feature_importances_[i], reverse = True)[:20]"
   ]
  },
  {
   "cell_type": "code",
   "execution_count": null,
   "metadata": {},
   "outputs": [],
   "source": []
  }
 ],
 "metadata": {
  "kernelspec": {
   "display_name": "Python 3.10.4 ('COMP9417')",
   "language": "python",
   "name": "python3"
  },
  "language_info": {
   "codemirror_mode": {
    "name": "ipython",
    "version": 3
   },
   "file_extension": ".py",
   "mimetype": "text/x-python",
   "name": "python",
   "nbconvert_exporter": "python",
   "pygments_lexer": "ipython3",
   "version": "3.10.4"
  },
  "orig_nbformat": 4,
  "vscode": {
   "interpreter": {
    "hash": "5bbb6214ddd65c57bd7a4b2ba1617f026bbfcc33128d2bfd25d4a61605172ea1"
   }
  }
 },
 "nbformat": 4,
 "nbformat_minor": 2
}
