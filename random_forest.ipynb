{
 "cells": [
  {
   "cell_type": "code",
   "execution_count": 1,
   "metadata": {},
   "outputs": [],
   "source": [
    "import pandas as pd\n",
    "import numpy as np\n",
    "from sklearn.ensemble import RandomForestClassifier\n",
    "from sklearn.metrics import accuracy_score, mean_squared_error, confusion_matrix, cohen_kappa_score\n",
    "from sklearn.model_selection import RandomizedSearchCV\n",
    "\n",
    "from evaluation import quadratic_weighted_kappa\n",
    "from cleaning import clean_data"
   ]
  },
  {
   "cell_type": "code",
   "execution_count": 2,
   "metadata": {},
   "outputs": [
    {
     "data": {
      "text/plain": [
       "\"rf = RandomForestClassifier()\\n\\nhyper_params = {\\n    'criterion':['entropy'],\\n    'max_depth': range(40,100),\\n    'max_features': range(50,150),\\n    'max_leaf_nodes': range(2,50),\\n    'min_samples_leaf': range(20,40),\\n    'n_estimators': range(300,600,10)\\n}\\n\\nmodel_cv = RandomizedSearchCV(estimator=rf,param_distributions=hyper_params,verbose=1)\\nmodel_cv.fit(X_train,Y_train)\\nprint(model_cv.best_score_)\\nprint(model_cv.best_estimator_)\""
      ]
     },
     "execution_count": 2,
     "metadata": {},
     "output_type": "execute_result"
    }
   ],
   "source": [
    "X_train, Y_train, X_test, Y_test = clean_data('./petfinder-adoption-prediction/train/train.csv')\n",
    "\n",
    "'''rf = RandomForestClassifier()\n",
    "\n",
    "hyper_params = {\n",
    "    'criterion':['entropy'],\n",
    "    'max_depth': range(40,100),\n",
    "    'max_features': range(50,150),\n",
    "    'max_leaf_nodes': range(2,50),\n",
    "    'min_samples_leaf': range(20,40),\n",
    "    'n_estimators': range(300,600,10)\n",
    "}\n",
    "\n",
    "model_cv = RandomizedSearchCV(estimator=rf,param_distributions=hyper_params,verbose=1)\n",
    "model_cv.fit(X_train,Y_train)\n",
    "print(model_cv.best_score_)\n",
    "print(model_cv.best_estimator_)'''"
   ]
  },
  {
   "cell_type": "code",
   "execution_count": 3,
   "metadata": {},
   "outputs": [
    {
     "name": "stdout",
     "output_type": "stream",
     "text": [
      "Confusion Matrix\n",
      " [[  0  39  32   9  47]\n",
      " [  0 231 369  51 256]\n",
      " [  0 153 496 137 461]\n",
      " [  0  98 301 145 415]\n",
      " [  0  83 243  46 886]]\n",
      "Cohen Kappa 0.296644337072831\n",
      "Accuracy Score 0.39084037349933304\n",
      "MSE 1.9751000444642064\n"
     ]
    }
   ],
   "source": [
    "rf = RandomForestClassifier(criterion='entropy', max_depth=61, max_features=90,\n",
    "                       max_leaf_nodes=45, min_samples_leaf=27,\n",
    "                       n_estimators=410)\n",
    "rf.fit(X_train, Y_train)\n",
    "predictions = rf.predict(X_test)\n",
    "print('Confusion Matrix\\n',confusion_matrix(Y_test, predictions))\n",
    "print('Cohen Kappa', cohen_kappa_score(Y_test, predictions, weights='quadratic'))\n",
    "print('Accuracy Score', accuracy_score(Y_test, predictions))\n",
    "print('MSE', mean_squared_error(Y_test, predictions))"
   ]
  }
 ],
 "metadata": {
  "kernelspec": {
   "display_name": "Python 3.10.4 ('COMP9417')",
   "language": "python",
   "name": "python3"
  },
  "language_info": {
   "codemirror_mode": {
    "name": "ipython",
    "version": 3
   },
   "file_extension": ".py",
   "mimetype": "text/x-python",
   "name": "python",
   "nbconvert_exporter": "python",
   "pygments_lexer": "ipython3",
   "version": "3.10.4"
  },
  "orig_nbformat": 4,
  "vscode": {
   "interpreter": {
    "hash": "5bbb6214ddd65c57bd7a4b2ba1617f026bbfcc33128d2bfd25d4a61605172ea1"
   }
  }
 },
 "nbformat": 4,
 "nbformat_minor": 2
}
