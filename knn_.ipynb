{
 "cells": [
  {
   "cell_type": "code",
   "execution_count": 2,
   "metadata": {},
   "outputs": [],
   "source": [
    "import numpy as np\n",
    "from data import load_data\n",
    "from evaluate import qwk\n",
    "\n",
    "from sklearn.model_selection import train_test_split\n",
    "from sklearn.neighbors import KNeighborsClassifier\n",
    "from sklearn.decomposition import PCA"
   ]
  },
  {
   "cell_type": "code",
   "execution_count": 3,
   "metadata": {},
   "outputs": [
    {
     "name": "stdout",
     "output_type": "stream",
     "text": [
      "Training = (10495, 361)\n",
      "Testing = (4498, 361)\n"
     ]
    }
   ],
   "source": [
    "# Load Data\n",
    "X_train, y_train, X_test, y_test, X_predict = load_data()\n",
    "\n",
    "print(f'Training = {X_train.shape}')\n",
    "print(f'Testing = {X_test.shape}')"
   ]
  },
  {
   "cell_type": "code",
   "execution_count": 4,
   "metadata": {},
   "outputs": [
    {
     "data": {
      "text/plain": [
       "array([[ 1.40650270e+00,  1.59828319e+00,  9.19333261e-01, ...,\n",
       "         8.49254152e-04, -9.92778295e-05,  2.21580442e-04],\n",
       "       [-2.20100314e-01,  4.13344794e-01, -1.67820006e+00, ...,\n",
       "         1.11403326e-03,  1.61950187e-03, -1.20289095e-03],\n",
       "       [ 9.10205374e-01,  3.21905291e-01, -1.00790293e+00, ...,\n",
       "        -2.34956936e-04, -9.56427483e-05, -1.57714663e-04],\n",
       "       ...,\n",
       "       [-1.01781756e+00,  1.20769682e-02, -1.54922715e+00, ...,\n",
       "         8.11527474e-04,  1.18743751e-03,  9.38253648e-04],\n",
       "       [ 1.15609116e+00,  3.70351769e-01, -3.18963482e-01, ...,\n",
       "         8.94524445e-04,  5.02298292e-04,  1.13566577e-03],\n",
       "       [-9.71222816e-01,  7.39504795e-01, -7.79919962e-01, ...,\n",
       "         4.35694189e-05, -7.73556985e-04, -4.85166725e-04]])"
      ]
     },
     "execution_count": 4,
     "metadata": {},
     "output_type": "execute_result"
    }
   ],
   "source": [
    "pca = PCA(n_components=250, svd_solver='auto')\n",
    "pca.fit_transform(X_train)"
   ]
  },
  {
   "cell_type": "code",
   "execution_count": 5,
   "metadata": {},
   "outputs": [
    {
     "name": "stdout",
     "output_type": "stream",
     "text": [
      "---------- KNN Classifier ----------\n",
      "Train Accuracy: 0.5463554073368271\n",
      "Testing Accuracy: 0.32192085371276125\n",
      "0.999999958676743\n"
     ]
    }
   ],
   "source": [
    "# KNN Classifier\n",
    "print('---------- KNN Classifier ----------')\n",
    "k = 5\n",
    "knn = KNeighborsClassifier(n_neighbors=k)\n",
    "knn.fit(X_train, y_train)\n",
    "\n",
    "\n",
    "\n",
    "print(f'Train Accuracy: {knn.score(X_train, y_train)}')\n",
    "print(f'Testing Accuracy: {knn.score(X_test, y_test)}')\n",
    "y_pred = knn.predict(X_test)\n",
    "print(qwk(y_test, y_pred))\n",
    "\n"
   ]
  }
 ],
 "metadata": {
  "kernelspec": {
   "display_name": "Python 3.9.7 64-bit",
   "language": "python",
   "name": "python3"
  },
  "language_info": {
   "codemirror_mode": {
    "name": "ipython",
    "version": 3
   },
   "file_extension": ".py",
   "mimetype": "text/x-python",
   "name": "python",
   "nbconvert_exporter": "python",
   "pygments_lexer": "ipython3",
   "version": "3.9.7"
  },
  "orig_nbformat": 4,
  "vscode": {
   "interpreter": {
    "hash": "01d0cb7c327463eecb8fc8bad5ed81fd0990729e8fadceb930c98fb3d974e263"
   }
  }
 },
 "nbformat": 4,
 "nbformat_minor": 2
}
