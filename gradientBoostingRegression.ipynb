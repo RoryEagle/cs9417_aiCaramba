{
 "cells": [
  {
   "cell_type": "code",
   "execution_count": 1,
   "metadata": {},
   "outputs": [],
   "source": [
    "# Importing required libraries\n",
    "import numpy as np\n",
    "import matplotlib.pyplot as plt\n",
    "import scipy as sp\n",
    "\n",
    "from cleaning import clean_data\n",
    "from evaluate import qwk\n",
    "\n",
    "\n",
    "from sklearn import linear_model\n",
    "\n",
    "from sklearn.metrics import mean_squared_error\n",
    "from sklearn.metrics import r2_score\n",
    "\n",
    "from sklearn.decomposition import PCA\n",
    "from sklearn.feature_selection import SelectKBest, VarianceThreshold\n",
    "\n",
    "from sklearn import ensemble\n"
   ]
  },
  {
   "cell_type": "code",
   "execution_count": 2,
   "metadata": {},
   "outputs": [
    {
     "name": "stdout",
     "output_type": "stream",
     "text": [
      "Training = (10495, 335)\n",
      "Testing = (4498, 335)\n"
     ]
    }
   ],
   "source": [
    "# Generating 3 datasets that reduce collinearity in the features\n",
    "# Load Data\n",
    "X_train, y_train, X_test, y_test = clean_data('')\n",
    "\n",
    "# PCA Decomposition\n",
    "pca = PCA(svd_solver='full')\n",
    "pcaX_train = pca.fit_transform(X_train)\n",
    "pcaX_test = pca.transform(X_test)\n",
    "\n",
    "# Select K Best\n",
    "kb = SelectKBest()\n",
    "kbX_train = kb.fit_transform(X_train, y_train)\n",
    "kbX_test = kb.transform(X_test)\n",
    "\n",
    "# Variance Threshold\n",
    "vt = VarianceThreshold(threshold=(.8 * (1 - .8)))\n",
    "vtX_train = vt.fit_transform(X_train, y_train)\n",
    "vtX_test = vt.transform(X_test)\n",
    "\n",
    "print(f'Training = {X_train.shape}')\n",
    "print(f'Testing = {X_test.shape}')\n",
    "# Create dict to store outcomes\n",
    "\n",
    "results = {}"
   ]
  },
  {
   "cell_type": "code",
   "execution_count": 6,
   "metadata": {},
   "outputs": [
    {
     "name": "stdout",
     "output_type": "stream",
     "text": [
      "============= control ======================\n",
      "train acc: 0.2004869603016015\n",
      "test acc: 0.15395712010749807\n",
      "============= K best ======================\n",
      "train acc: 0.170004889558243\n",
      "test acc: 0.14088230357018072\n",
      "============= PCA Decomposition ======================\n",
      "train acc: 0.2501164710083923\n",
      "test acc: 0.11180560345203883\n",
      "============= Variance Threshold ======================\n",
      "train acc: 0.1894034186214375\n",
      "test acc: 0.1488303067115362\n"
     ]
    }
   ],
   "source": [
    "# Testing which dataset produces the best result on the linear regressor\n",
    "controlLogReg = ensemble.GradientBoostingRegressor()\n",
    "kbLogReg = ensemble.GradientBoostingRegressor()\n",
    "pcaLogReg = ensemble.GradientBoostingRegressor()\n",
    "vtLogReg = ensemble.GradientBoostingRegressor()\n",
    "\n",
    "controlLogReg.fit(X_train, y_train)\n",
    "kbLogReg.fit(kbX_train, y_train)\n",
    "pcaLogReg.fit(pcaX_train, y_train)\n",
    "vtLogReg.fit(vtX_train, y_train)\n",
    "\n",
    "print(\"============= control ======================\")\n",
    "print(\"train acc: \" + str(controlLogReg.score(X_train, y_train)))\n",
    "print(\"test acc: \" + str(controlLogReg.score(X_test, y_test)))\n",
    "\n",
    "print(\"============= K best ======================\")\n",
    "print(\"train acc: \" + str(kbLogReg.score(kbX_train, y_train)))\n",
    "print(\"test acc: \" + str(kbLogReg.score(kbX_test, y_test)))\n",
    "\n",
    "print(\"============= PCA Decomposition ======================\")\n",
    "print(\"train acc: \" + str(pcaLogReg.score(pcaX_train, y_train)))\n",
    "print(\"test acc: \" + str(pcaLogReg.score(pcaX_test, y_test)))\n",
    "\n",
    "print(\"============= Variance Threshold ======================\")\n",
    "print(\"train acc: \" + str(vtLogReg.score(vtX_train, y_train)))\n",
    "print(\"test acc: \" + str(vtLogReg.score(vtX_test, y_test)))"
   ]
  }
 ],
 "metadata": {
  "kernelspec": {
   "display_name": "Python 3.9.12 ('base')",
   "language": "python",
   "name": "python3"
  },
  "language_info": {
   "codemirror_mode": {
    "name": "ipython",
    "version": 3
   },
   "file_extension": ".py",
   "mimetype": "text/x-python",
   "name": "python",
   "nbconvert_exporter": "python",
   "pygments_lexer": "ipython3",
   "version": "3.9.12"
  },
  "orig_nbformat": 4,
  "vscode": {
   "interpreter": {
    "hash": "52427ff3b84206cb3d0491fd58946178d9bf6520d3aa33a25117d43f7acd7872"
   }
  }
 },
 "nbformat": 4,
 "nbformat_minor": 2
}
