{
 "cells": [
  {
   "cell_type": "code",
   "execution_count": 18,
   "metadata": {},
   "outputs": [],
   "source": [
    "from cleaning import clean_data, SMOTE_resample\n",
    "import numpy as np\n",
    "from sklearn.svm import SVC, LinearSVC\n",
    "import matplotlib.pyplot as plt\n",
    "from sklearn.decomposition import PCA\n",
    "from sklearn.feature_selection import SelectKBest, VarianceThreshold, f_regression, SelectPercentile, mutual_info_classif\n",
    "from sklearn.model_selection import train_test_split, RandomizedSearchCV\n",
    "from collections import Counter\n",
    "from evaluate import qwk\n",
    "from sklearn.metrics import cohen_kappa_score\n",
    "from sklearn.ensemble import BaggingClassifier"
   ]
  },
  {
   "cell_type": "code",
   "execution_count": 25,
   "metadata": {},
   "outputs": [],
   "source": [
    "# Load Data\n",
    "X_train, y_train, X_test, y_test = clean_data('')\n",
    "# print(Counter(y_train))\n",
    "\n",
    "# SMOTE resampling\n",
    "X_train, y_train = SMOTE_resample(X_train, y_train)\n",
    "X_train, X_val, y_train, y_val = train_test_split(X_train, y_train, test_size=0.2)\n",
    "print(X_train.shape)\n",
    "print(X_val.shape)\n",
    "print(y_train.shape)\n",
    "print(y_val.shape)\n",
    "# print(Counter(y_train))\n",
    "# # Feature selection\n",
    "# pca = PCA(svd_solver='full')\n",
    "# X_train = pca.fit_transform(X_train)\n",
    "# X_test = pca.transform(X_test)"
   ]
  },
  {
   "cell_type": "code",
   "execution_count": 6,
   "metadata": {},
   "outputs": [
    {
     "name": "stderr",
     "output_type": "stream",
     "text": [
      "c:\\Users\\Noah\\AppData\\Local\\Programs\\Python\\Python39\\lib\\site-packages\\sklearn\\model_selection\\_validation.py:378: FitFailedWarning: \n",
      "39 fits failed out of a total of 75.\n",
      "The score on these train-test partitions for these parameters will be set to -inf.\n",
      "If these failures are not expected, you can try to debug them by setting error_score='raise'.\n",
      "\n",
      "Below are more details about the failures:\n",
      "--------------------------------------------------------------------------------\n",
      "18 fits failed with the following error:\n",
      "Traceback (most recent call last):\n",
      "  File \"c:\\Users\\Noah\\AppData\\Local\\Programs\\Python\\Python39\\lib\\site-packages\\sklearn\\model_selection\\_validation.py\", line 686, in _fit_and_score\n",
      "    estimator.fit(X_train, y_train, **fit_params)\n",
      "  File \"c:\\Users\\Noah\\AppData\\Local\\Programs\\Python\\Python39\\lib\\site-packages\\sklearn\\svm\\_classes.py\", line 257, in fit\n",
      "    self.coef_, self.intercept_, n_iter_ = _fit_liblinear(\n",
      "  File \"c:\\Users\\Noah\\AppData\\Local\\Programs\\Python\\Python39\\lib\\site-packages\\sklearn\\svm\\_base.py\", line 1204, in _fit_liblinear\n",
      "    solver_type = _get_liblinear_solver_type(multi_class, penalty, loss, dual)\n",
      "  File \"c:\\Users\\Noah\\AppData\\Local\\Programs\\Python\\Python39\\lib\\site-packages\\sklearn\\svm\\_base.py\", line 1043, in _get_liblinear_solver_type\n",
      "    raise ValueError(\n",
      "ValueError: Unsupported set of arguments: The combination of penalty='l2' and loss='hinge' are not supported when dual=False, Parameters: penalty='l2', loss='hinge', dual=False\n",
      "\n",
      "--------------------------------------------------------------------------------\n",
      "21 fits failed with the following error:\n",
      "Traceback (most recent call last):\n",
      "  File \"c:\\Users\\Noah\\AppData\\Local\\Programs\\Python\\Python39\\lib\\site-packages\\sklearn\\model_selection\\_validation.py\", line 686, in _fit_and_score\n",
      "    estimator.fit(X_train, y_train, **fit_params)\n",
      "  File \"c:\\Users\\Noah\\AppData\\Local\\Programs\\Python\\Python39\\lib\\site-packages\\sklearn\\svm\\_classes.py\", line 257, in fit\n",
      "    self.coef_, self.intercept_, n_iter_ = _fit_liblinear(\n",
      "  File \"c:\\Users\\Noah\\AppData\\Local\\Programs\\Python\\Python39\\lib\\site-packages\\sklearn\\svm\\_base.py\", line 1204, in _fit_liblinear\n",
      "    solver_type = _get_liblinear_solver_type(multi_class, penalty, loss, dual)\n",
      "  File \"c:\\Users\\Noah\\AppData\\Local\\Programs\\Python\\Python39\\lib\\site-packages\\sklearn\\svm\\_base.py\", line 1043, in _get_liblinear_solver_type\n",
      "    raise ValueError(\n",
      "ValueError: Unsupported set of arguments: The combination of penalty='l1' and loss='hinge' is not supported, Parameters: penalty='l1', loss='hinge', dual=False\n",
      "\n",
      "  warnings.warn(some_fits_failed_message, FitFailedWarning)\n",
      "c:\\Users\\Noah\\AppData\\Local\\Programs\\Python\\Python39\\lib\\site-packages\\sklearn\\model_selection\\_search.py:953: UserWarning: One or more of the test scores are non-finite: [0.3167055        -inf 0.35808129       -inf       -inf 0.30574984\n",
      " 0.34154457       -inf 0.35896595       -inf 0.35889791 0.35556332\n",
      "       -inf       -inf 0.35556332       -inf 0.35808129       -inf\n",
      "       -inf 0.30574984 0.3167055  0.1998639        -inf       -inf\n",
      "       -inf]\n",
      "  warnings.warn(\n",
      "c:\\Users\\Noah\\AppData\\Local\\Programs\\Python\\Python39\\lib\\site-packages\\sklearn\\model_selection\\_search.py:962: RuntimeWarning: invalid value encountered in subtract\n",
      "  (array - array_means[:, np.newaxis]) ** 2, axis=1, weights=weights\n"
     ]
    },
    {
     "name": "stdout",
     "output_type": "stream",
     "text": [
      "Best Parameters = {'penalty': 'l1', 'max_iter': 5000, 'loss': 'squared_hinge', 'dual': False, 'C': 1}\n",
      "Best Score = 0.3589659481399039\n"
     ]
    }
   ],
   "source": [
    "losses = [\"hinge\", \"squared_hinge\"]\n",
    "learning_rates = [1e-4, 1e-2, 1e-1, 1]\n",
    "penalties = [\"l1\", \"l2\"]\n",
    "max_iters = [1000, 5000, 10000]\n",
    "\n",
    "random_grid = {\n",
    "    \"C\": learning_rates,\n",
    "    \"penalty\": penalties,\n",
    "    \"max_iter\": max_iters,\n",
    "    \"loss\": losses,\n",
    "    \"dual\": [False]\n",
    "}\n",
    "\n",
    "svc = LinearSVC()\n",
    "svc_random = RandomizedSearchCV(estimator=svc, param_distributions=random_grid, n_iter=25, cv=3, verbose=0, n_jobs=-1, error_score=np.NINF)\n",
    "svc_random.fit(X_train, y_train)\n",
    "print(f'Best Parameters = {svc_random.best_params_}')\n",
    "print(f'Best Score = {svc_random.best_score_}')"
   ]
  },
  {
   "cell_type": "code",
   "execution_count": 7,
   "metadata": {},
   "outputs": [
    {
     "name": "stdout",
     "output_type": "stream",
     "text": [
      "Train Score = 0.39319496427356243\n",
      "Test Score = 0.2881280569141841\n",
      "QWK = 0.9999999616993961\n",
      "Cohens Kappa Score = 0.11249189601586229\n"
     ]
    }
   ],
   "source": [
    "# Linear SVC\n",
    "best_params = {'penalty': 'l1', 'max_iter': 5000, 'loss': 'squared_hinge', 'dual': False, 'C': 1}\n",
    "# best_params = svc_random.best_params_\n",
    "lsvc = LinearSVC(penalty=best_params['penalty'], max_iter=best_params['max_iter'], loss=best_params['loss'], dual=best_params['dual'], C=best_params['C'])\n",
    "lsvc.fit(X_train, y_train)\n",
    "y_pred = lsvc.predict(X_test)\n",
    "print(f'Train Score = {lsvc.score(X_train, y_train)}')\n",
    "print(f'Test Score = {lsvc.score(X_test, y_test)}')\n",
    "print(f'QWK = {qwk(y_test, y_pred)}')\n",
    "print(f'Cohens Kappa Score = {cohen_kappa_score(y_test, y_pred)}')"
   ]
  },
  {
   "cell_type": "code",
   "execution_count": 4,
   "metadata": {},
   "outputs": [
    {
     "name": "stdout",
     "output_type": "stream",
     "text": [
      "Best Parameters = {'gamma': 'scale', 'C': 0.1}\n",
      "Best Score = 0.3718275491316314\n"
     ]
    }
   ],
   "source": [
    "# SVC\n",
    "learning_rates = [1e-15, 1e-8, 1e-4, 1e-2, 1e-1, 1]\n",
    "gammas = ['scale', 'auto']\n",
    "\n",
    "random_grid = {\n",
    "    \"C\": learning_rates,\n",
    "    \"gamma\": gammas,\n",
    "}\n",
    "\n",
    "svc = SVC(kernel='rbf', class_weight='balanced')\n",
    "svc_random = RandomizedSearchCV(estimator=svc, param_distributions=random_grid, n_iter=6, cv=3, verbose=0, n_jobs=-1, error_score=np.NINF)\n",
    "svc_random.fit(X_train, y_train)\n",
    "print(f'Best Parameters = {svc_random.best_params_}')\n",
    "print(f'Best Score = {svc_random.best_score_}')\n"
   ]
  },
  {
   "cell_type": "code",
   "execution_count": 5,
   "metadata": {},
   "outputs": [
    {
     "name": "stdout",
     "output_type": "stream",
     "text": [
      "Train Score = 0.4293297039809459\n",
      "Test Score = 0.31036016007114275\n",
      "QWK = 0.9999999610155443\n",
      "Cohens Kappa Score = 0.21126633714622056\n"
     ]
    }
   ],
   "source": [
    "# SVC\n",
    "best_params = {'gamma': 'scale', 'C': 0.1}\n",
    "# best_params = svc_random.best_params_\n",
    "svc = SVC(kernel='rbf', class_weight='balanced', gamma=best_params['gamma'], C=best_params['C'])\n",
    "svc.fit(X_train, y_train)\n",
    "y_pred = svc.predict(X_test)\n",
    "print(f'Train Score = {svc.score(X_train, y_train)}')\n",
    "print(f'Test Score = {svc.score(X_test, y_test)}')\n",
    "print(f'QWK = {qwk(y_test, y_pred)}')\n",
    "kappa = cohen_kappa_score(y_test, y_pred, weights='quadratic')\n",
    "print(f'Cohens Kappa Score = {kappa}')"
   ]
  },
  {
   "cell_type": "code",
   "execution_count": 7,
   "metadata": {},
   "outputs": [
    {
     "name": "stdout",
     "output_type": "stream",
     "text": [
      "Train Score = 0.628989452194624\n",
      "Test Score = 0.35460204535349044\n",
      "QWK = 0.9999999637451413\n",
      "Cohens Kappa Score = 0.26649155334605124\n"
     ]
    }
   ],
   "source": [
    "# Bagging Classifier\n",
    "bc = BaggingClassifier(base_estimator=svc, n_estimators=10, n_jobs=-1)\n",
    "bc.fit(X_train, y_train)\n",
    "y_pred = bc.predict(X_test)\n",
    "print(f'Train Score = {bc.score(X_train, y_train)}')\n",
    "print(f'Test Score = {bc.score(X_test, y_test)}')\n",
    "print(f'QWK = {qwk(y_test, y_pred)}')\n",
    "kappa = cohen_kappa_score(y_test, y_pred, weights='quadratic')\n",
    "print(f'Cohens Kappa Score = {kappa}')"
   ]
  },
  {
   "cell_type": "code",
   "execution_count": 24,
   "metadata": {},
   "outputs": [],
   "source": [
    "# PCA Decomposition\n",
    "pca = PCA(n_components=50, svd_solver='auto')\n",
    "pcaX_train = pca.fit_transform(X_train)\n",
    "pcaX_test = pca.transform(X_test)\n",
    "\n",
    "# Select Percentile\n",
    "sp = SelectPercentile(mutual_info_classif)\n",
    "spX_train = sp.fit_transform(X_train, y_train)\n",
    "spX_test = sp.transform(X_test)\n",
    "\n",
    "# Variance Threshold\n",
    "vt = VarianceThreshold(threshold=(.8 * (1 - .8)))\n",
    "vtX_train = vt.fit_transform(X_train, y_train)\n",
    "vtX_test = vt.transform(X_test)"
   ]
  },
  {
   "cell_type": "code",
   "execution_count": 23,
   "metadata": {},
   "outputs": [
    {
     "data": {
      "image/png": "[encoded data removed]",
      "text/plain": [
       "<Figure size 432x288 with 1 Axes>"
      ]
     },
     "metadata": {
      "needs_background": "light"
     },
     "output_type": "display_data"
    }
   ],
   "source": [
    "# Feature Selection\n",
    "dataLabels = ['No Selection', 'PCA', 'Variance Threshold', 'Percentile']\n",
    "data = [(X_train, X_test), (pcaX_train, pcaX_test), (vtX_train, vtX_test), (spX_train, spX_test)]\n",
    "\n",
    "trainScores = []\n",
    "testScores = []\n",
    "for i, label in enumerate(dataLabels):\n",
    "    xtrain, xtest = data[i]\n",
    "    svc = SVC(kernel='rbf', class_weight='balanced', gamma='scale', C=0.1)\n",
    "    svc.fit(xtrain, y_train)\n",
    "    trainScores.append(svc.score(xtrain, y_train))\n",
    "    testScores.append(svc.score(xtest, y_test))\n",
    "\n",
    "plt.plot(dataLabels, trainScores, label='Train Scores')\n",
    "plt.plot(dataLabels, testScores, label='Test Scores')\n",
    "plt.title(f'Accuracy vs Feature Selection Methods for SVC')\n",
    "plt.xlabel('Feature Selection')\n",
    "plt.ylabel('Accuracy')\n",
    "plt.legend(loc='upper right')\n",
    "plt.show()"
   ]
  }
 ],
 "metadata": {
  "kernelspec": {
   "display_name": "Python 3.9.7 64-bit",
   "language": "python",
   "name": "python3"
  },
  "language_info": {
   "codemirror_mode": {
    "name": "ipython",
    "version": 3
   },
   "file_extension": ".py",
   "mimetype": "text/x-python",
   "name": "python",
   "nbconvert_exporter": "python",
   "pygments_lexer": "ipython3",
   "version": "3.9.7"
  },
  "orig_nbformat": 4,
  "vscode": {
   "interpreter": {
    "hash": "01d0cb7c327463eecb8fc8bad5ed81fd0990729e8fadceb930c98fb3d974e263"
   }
  }
 },
 "nbformat": 4,
 "nbformat_minor": 2
}
