{
 "cells": [
  {
   "cell_type": "code",
   "execution_count": 2,
   "metadata": {},
   "outputs": [],
   "source": [
    "from cleaning import clean_data, SMOTE_resample\n",
    "import numpy as np\n",
    "from sklearn.svm import SVC, LinearSVC\n",
    "import matplotlib.pyplot as plt\n",
    "from sklearn.decomposition import PCA\n",
    "from sklearn.model_selection import train_test_split, RandomizedSearchCV\n",
    "from collections import Counter\n",
    "from sklearn.metrics import cohen_kappa_score, make_scorer\n",
    "from sklearn.ensemble import BaggingClassifier"
   ]
  },
  {
   "cell_type": "code",
   "execution_count": 3,
   "metadata": {},
   "outputs": [
    {
     "name": "stdout",
     "output_type": "stream",
     "text": [
      "(10495, 335)\n"
     ]
    },
    {
     "data": {
      "image/png": "[encoded data removed]",
      "text/plain": [
       "<Figure size 432x288 with 1 Axes>"
      ]
     },
     "metadata": {
      "needs_background": "light"
     },
     "output_type": "display_data"
    },
    {
     "data": {
      "image/png": "[encoded data removed]",
      "text/plain": [
       "<Figure size 432x288 with 1 Axes>"
      ]
     },
     "metadata": {
      "needs_background": "light"
     },
     "output_type": "display_data"
    }
   ],
   "source": [
    "# Load Data\n",
    "X_train, y_train, X_test, y_test = clean_data('')\n",
    "print(X_train.shape)\n",
    "\n",
    "classes = [0, 1, 2, 3, 4]\n",
    "c = Counter(y_train)\n",
    "counts = [c[0], c[1], c[2], c[3], c[4]]\n",
    "\n",
    "plt.bar(classes, counts)\n",
    "plt.title(f'Counts of class labels in training set before SMOTE')\n",
    "plt.xlabel('Class Label')\n",
    "plt.ylabel('Count')\n",
    "plt.show()\n",
    "\n",
    "# SMOTE resampling\n",
    "X_train, y_train = SMOTE_resample(X_train, y_train)\n",
    "\n",
    "c = Counter(y_train)\n",
    "counts = [c[0], c[1], c[2], c[3], c[4]]\n",
    "\n",
    "plt.bar(classes, counts)\n",
    "plt.title(f'Counts of class labels in training set after SMOTE')\n",
    "plt.xlabel('Class Label')\n",
    "plt.ylabel('Count')\n",
    "plt.show()"
   ]
  },
  {
   "cell_type": "code",
   "execution_count": 4,
   "metadata": {},
   "outputs": [],
   "source": [
    "# PCA Decomposition\n",
    "pca = PCA(n_components=100, svd_solver='full')\n",
    "pcaX_train = pca.fit_transform(X_train)\n",
    "pcaX_test = pca.transform(X_test)"
   ]
  },
  {
   "cell_type": "code",
   "execution_count": 5,
   "metadata": {},
   "outputs": [
    {
     "name": "stderr",
     "output_type": "stream",
     "text": [
      "c:\\Users\\Noah\\AppData\\Local\\Programs\\Python\\Python39\\lib\\site-packages\\sklearn\\model_selection\\_validation.py:378: FitFailedWarning: \n",
      "18 fits failed out of a total of 30.\n",
      "The score on these train-test partitions for these parameters will be set to -inf.\n",
      "If these failures are not expected, you can try to debug them by setting error_score='raise'.\n",
      "\n",
      "Below are more details about the failures:\n",
      "--------------------------------------------------------------------------------\n",
      "9 fits failed with the following error:\n",
      "Traceback (most recent call last):\n",
      "  File \"c:\\Users\\Noah\\AppData\\Local\\Programs\\Python\\Python39\\lib\\site-packages\\sklearn\\model_selection\\_validation.py\", line 686, in _fit_and_score\n",
      "    estimator.fit(X_train, y_train, **fit_params)\n",
      "  File \"c:\\Users\\Noah\\AppData\\Local\\Programs\\Python\\Python39\\lib\\site-packages\\sklearn\\svm\\_classes.py\", line 257, in fit\n",
      "    self.coef_, self.intercept_, n_iter_ = _fit_liblinear(\n",
      "  File \"c:\\Users\\Noah\\AppData\\Local\\Programs\\Python\\Python39\\lib\\site-packages\\sklearn\\svm\\_base.py\", line 1204, in _fit_liblinear\n",
      "    solver_type = _get_liblinear_solver_type(multi_class, penalty, loss, dual)\n",
      "  File \"c:\\Users\\Noah\\AppData\\Local\\Programs\\Python\\Python39\\lib\\site-packages\\sklearn\\svm\\_base.py\", line 1043, in _get_liblinear_solver_type\n",
      "    raise ValueError(\n",
      "ValueError: Unsupported set of arguments: The combination of penalty='l1' and loss='hinge' is not supported, Parameters: penalty='l1', loss='hinge', dual=False\n",
      "\n",
      "--------------------------------------------------------------------------------\n",
      "9 fits failed with the following error:\n",
      "Traceback (most recent call last):\n",
      "  File \"c:\\Users\\Noah\\AppData\\Local\\Programs\\Python\\Python39\\lib\\site-packages\\sklearn\\model_selection\\_validation.py\", line 686, in _fit_and_score\n",
      "    estimator.fit(X_train, y_train, **fit_params)\n",
      "  File \"c:\\Users\\Noah\\AppData\\Local\\Programs\\Python\\Python39\\lib\\site-packages\\sklearn\\svm\\_classes.py\", line 257, in fit\n",
      "    self.coef_, self.intercept_, n_iter_ = _fit_liblinear(\n",
      "  File \"c:\\Users\\Noah\\AppData\\Local\\Programs\\Python\\Python39\\lib\\site-packages\\sklearn\\svm\\_base.py\", line 1204, in _fit_liblinear\n",
      "    solver_type = _get_liblinear_solver_type(multi_class, penalty, loss, dual)\n",
      "  File \"c:\\Users\\Noah\\AppData\\Local\\Programs\\Python\\Python39\\lib\\site-packages\\sklearn\\svm\\_base.py\", line 1043, in _get_liblinear_solver_type\n",
      "    raise ValueError(\n",
      "ValueError: Unsupported set of arguments: The combination of penalty='l2' and loss='hinge' are not supported when dual=False, Parameters: penalty='l2', loss='hinge', dual=False\n",
      "\n",
      "  warnings.warn(some_fits_failed_message, FitFailedWarning)\n",
      "c:\\Users\\Noah\\AppData\\Local\\Programs\\Python\\Python39\\lib\\site-packages\\sklearn\\model_selection\\_search.py:953: UserWarning: One or more of the test scores are non-finite: [0.33361281 0.28198271       -inf 0.31805152       -inf       -inf\n",
      "       -inf       -inf       -inf 0.32156915]\n",
      "  warnings.warn(\n",
      "c:\\Users\\Noah\\AppData\\Local\\Programs\\Python\\Python39\\lib\\site-packages\\sklearn\\model_selection\\_search.py:962: RuntimeWarning: invalid value encountered in subtract\n",
      "  (array - array_means[:, np.newaxis]) ** 2, axis=1, weights=weights\n"
     ]
    },
    {
     "name": "stdout",
     "output_type": "stream",
     "text": [
      "Best Parameters = {'penalty': 'l1', 'loss': 'squared_hinge', 'C': 10}\n",
      "Best Score = 0.33361281385396485\n"
     ]
    },
    {
     "name": "stderr",
     "output_type": "stream",
     "text": [
      "c:\\Users\\Noah\\AppData\\Local\\Programs\\Python\\Python39\\lib\\site-packages\\sklearn\\svm\\_base.py:1225: ConvergenceWarning: Liblinear failed to converge, increase the number of iterations.\n",
      "  warnings.warn(\n"
     ]
    }
   ],
   "source": [
    "losses = [\"hinge\", \"squared_hinge\"]\n",
    "learning_rates = [1e-3, 1e-2, 1e-1, 1, 10]\n",
    "penalties = [\"l1\", \"l2\"]\n",
    "\n",
    "random_grid = {\n",
    "    \"C\": learning_rates,\n",
    "    \"penalty\": penalties,\n",
    "    \"loss\": losses,\n",
    "}\n",
    "\n",
    "kappa_scorer = make_scorer(cohen_kappa_score, weights='quadratic')\n",
    "svc = LinearSVC(dual=False)\n",
    "svc_random = RandomizedSearchCV(estimator=svc, param_distributions=random_grid, n_iter=10, cv=3, verbose=0, n_jobs=-1, error_score=np.NINF, scoring=kappa_scorer)\n",
    "svc_random.fit(pcaX_train, y_train)\n",
    "print(f'Best Parameters = {svc_random.best_params_}')\n",
    "print(f'Best Score = {svc_random.best_score_}')"
   ]
  },
  {
   "cell_type": "code",
   "execution_count": 6,
   "metadata": {},
   "outputs": [
    {
     "name": "stdout",
     "output_type": "stream",
     "text": [
      "Train Score = 0.39067710105478054\n",
      "Test Score = 0.2905735882614495\n",
      "Cohens Kappa Score = 0.229562792859079\n"
     ]
    },
    {
     "name": "stderr",
     "output_type": "stream",
     "text": [
      "c:\\Users\\Noah\\AppData\\Local\\Programs\\Python\\Python39\\lib\\site-packages\\sklearn\\svm\\_base.py:1225: ConvergenceWarning: Liblinear failed to converge, increase the number of iterations.\n",
      "  warnings.warn(\n"
     ]
    }
   ],
   "source": [
    "# Linear SVC\n",
    "# best_params = {'penalty': 'l1', 'loss': 'squared_hinge', 'C': 10}\n",
    "best_params = svc_random.best_params_\n",
    "lsvc = LinearSVC(dual=False, penalty=best_params['penalty'], loss=best_params['loss'], C=best_params['C'])\n",
    "lsvc.fit(X_train, y_train)\n",
    "y_pred = lsvc.predict(X_test)\n",
    "print(f'Train Score = {lsvc.score(X_train, y_train)}')\n",
    "print(f'Test Score = {lsvc.score(X_test, y_test)}')\n",
    "kappa = cohen_kappa_score(y_test, y_pred, weights='quadratic')\n",
    "print(f'Cohens Kappa Score = {kappa}')"
   ]
  },
  {
   "cell_type": "code",
   "execution_count": 7,
   "metadata": {},
   "outputs": [
    {
     "name": "stderr",
     "output_type": "stream",
     "text": [
      "c:\\Users\\Noah\\AppData\\Local\\Programs\\Python\\Python39\\lib\\site-packages\\sklearn\\svm\\_base.py:1225: ConvergenceWarning: Liblinear failed to converge, increase the number of iterations.\n",
      "  warnings.warn(\n",
      "c:\\Users\\Noah\\AppData\\Local\\Programs\\Python\\Python39\\lib\\site-packages\\sklearn\\svm\\_base.py:1225: ConvergenceWarning: Liblinear failed to converge, increase the number of iterations.\n",
      "  warnings.warn(\n",
      "c:\\Users\\Noah\\AppData\\Local\\Programs\\Python\\Python39\\lib\\site-packages\\sklearn\\svm\\_base.py:1225: ConvergenceWarning: Liblinear failed to converge, increase the number of iterations.\n",
      "  warnings.warn(\n",
      "c:\\Users\\Noah\\AppData\\Local\\Programs\\Python\\Python39\\lib\\site-packages\\sklearn\\svm\\_base.py:1225: ConvergenceWarning: Liblinear failed to converge, increase the number of iterations.\n",
      "  warnings.warn(\n"
     ]
    },
    {
     "data": {
      "image/png": "[encoded data removed]",
      "text/plain": [
       "<Figure size 432x288 with 1 Axes>"
      ]
     },
     "metadata": {
      "needs_background": "light"
     },
     "output_type": "display_data"
    }
   ],
   "source": [
    "# Regularisation Parameter\n",
    "regParam = [1e-3, 1e-2, 1e-1, 1, 10, 100]\n",
    "\n",
    "trainScores = []\n",
    "testScores = []\n",
    "for C in regParam:\n",
    "    lsvc = LinearSVC(dual=False, penalty='l1', loss='squared_hinge', C=C)\n",
    "    lsvc.fit(X_train, y_train)\n",
    "    trainScores.append(lsvc.score(X_train, y_train))\n",
    "    testScores.append(lsvc.score(X_test, y_test))\n",
    "regNames = [str(x) for x in regParam]\n",
    "\n",
    "plt.plot(regNames, trainScores, label='Train Scores')\n",
    "plt.plot(regNames, testScores, label='Test Scores')\n",
    "plt.title(f'Accuracy vs Regularisation Parameter for LinearSVC')\n",
    "plt.xlabel('Regularisation Parameter, $C$')\n",
    "plt.ylabel('Accuracy')\n",
    "plt.legend(loc='upper left')\n",
    "plt.show()"
   ]
  },
  {
   "cell_type": "code",
   "execution_count": 8,
   "metadata": {},
   "outputs": [
    {
     "name": "stdout",
     "output_type": "stream",
     "text": [
      "Best Parameters = {'gamma': 'scale', 'C': 100}\n",
      "Best Score = 0.6506559373012826\n"
     ]
    }
   ],
   "source": [
    "# SVC\n",
    "learning_rates = [1e-3, 1e-2, 1e-1, 1, 10, 100]\n",
    "gammas = ['scale', 'auto']\n",
    "\n",
    "param_grid = {\n",
    "    \"C\": learning_rates,\n",
    "    \"gamma\": gammas,\n",
    "}\n",
    "\n",
    "svc = SVC(kernel='rbf')\n",
    "svc_grid = RandomizedSearchCV(estimator=svc, param_distributions=param_grid, cv=5, verbose=0, n_jobs=-1, error_score=np.NINF, scoring=kappa_scorer)\n",
    "svc_grid.fit(X_train, y_train)\n",
    "print(f'Best Parameters = {svc_grid.best_params_}')\n",
    "print(f'Best Score = {svc_grid.best_score_}')"
   ]
  },
  {
   "cell_type": "code",
   "execution_count": 10,
   "metadata": {},
   "outputs": [
    {
     "name": "stdout",
     "output_type": "stream",
     "text": [
      "Train Score = 0.9235794487921062\n",
      "Test Score = 0.341929746554024\n",
      "Cohens Kappa Score = 0.21450674081024879\n"
     ]
    }
   ],
   "source": [
    "# SVC\n",
    "# best_params = {'C': 20, 'gamma': 'scale'}\n",
    "best_params = svc_grid.best_params_\n",
    "svc = SVC(kernel='rbf', gamma=best_params['gamma'], C=best_params['C'])\n",
    "svc.fit(X_train, y_train)\n",
    "y_pred = svc.predict(X_test)\n",
    "print(f'Train Score = {svc.score(X_train, y_train)}')\n",
    "print(f'Test Score = {svc.score(X_test, y_test)}')\n",
    "kappa = cohen_kappa_score(y_test, y_pred, weights='quadratic')\n",
    "print(f'Cohens Kappa Score = {kappa}')"
   ]
  },
  {
   "cell_type": "code",
   "execution_count": 11,
   "metadata": {},
   "outputs": [
    {
     "name": "stdout",
     "output_type": "stream",
     "text": [
      "Train Score = 0.9265736645117387\n",
      "Test Score = 0.3454868830591374\n",
      "Cohens Kappa Score = 0.22745134726448712\n"
     ]
    }
   ],
   "source": [
    "# Bagging Classifier\n",
    "bc = BaggingClassifier(base_estimator=svc, n_estimators=20, n_jobs=-1)\n",
    "bc.fit(X_train, y_train)\n",
    "y_pred = bc.predict(X_test)\n",
    "print(f'Train Score = {bc.score(X_train, y_train)}')\n",
    "print(f'Test Score = {bc.score(X_test, y_test)}')\n",
    "kappa = cohen_kappa_score(y_test, y_pred, weights='quadratic')\n",
    "print(f'Cohens Kappa Score = {kappa}')"
   ]
  },
  {
   "cell_type": "code",
   "execution_count": 12,
   "metadata": {},
   "outputs": [
    {
     "data": {
      "image/png": "[encoded data removed]",
      "text/plain": [
       "<Figure size 432x288 with 1 Axes>"
      ]
     },
     "metadata": {
      "needs_background": "light"
     },
     "output_type": "display_data"
    }
   ],
   "source": [
    "# Regularisation Parameter\n",
    "regParam = [1e-3, 1e-2, 1e-1, 1, 10]\n",
    "\n",
    "trainScores = []\n",
    "testScores = []\n",
    "for C in regParam:\n",
    "    svc = SVC(kernel='rbf', gamma='scale', C=C)\n",
    "    svc.fit(X_train, y_train)\n",
    "    trainScores.append(svc.score(X_train, y_train))\n",
    "    testScores.append(svc.score(X_test, y_test))\n",
    "regNames = [str(x) for x in regParam]\n",
    "\n",
    "plt.plot(regNames, trainScores, label='Train Scores')\n",
    "plt.plot(regNames, testScores, label='Test Scores')\n",
    "plt.title(f'Accuracy vs Regularisation Parameter for SVC')\n",
    "plt.xlabel('Regularisation Parameter, $C$')\n",
    "plt.ylabel('Accuracy')\n",
    "plt.legend(loc='upper left')\n",
    "plt.show()"
   ]
  }
 ],
 "metadata": {
  "kernelspec": {
   "display_name": "Python 3.9.7 64-bit",
   "language": "python",
   "name": "python3"
  },
  "language_info": {
   "codemirror_mode": {
    "name": "ipython",
    "version": 3
   },
   "file_extension": ".py",
   "mimetype": "text/x-python",
   "name": "python",
   "nbconvert_exporter": "python",
   "pygments_lexer": "ipython3",
   "version": "3.9.7"
  },
  "orig_nbformat": 4,
  "vscode": {
   "interpreter": {
    "hash": "01d0cb7c327463eecb8fc8bad5ed81fd0990729e8fadceb930c98fb3d974e263"
   }
  }
 },
 "nbformat": 4,
 "nbformat_minor": 2
}
