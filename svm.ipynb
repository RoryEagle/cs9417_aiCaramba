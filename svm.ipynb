{
 "cells": [
  {
   "cell_type": "code",
   "execution_count": 7,
   "metadata": {},
   "outputs": [],
   "source": [
    "from cleaning import clean_data, SMOTE_resample\n",
    "import numpy as np\n",
    "from sklearn.svm import SVC, LinearSVC\n",
    "import matplotlib.pyplot as plt\n",
    "from sklearn.decomposition import PCA\n",
    "from sklearn.model_selection import train_test_split, RandomizedSearchCV\n",
    "from collections import Counter\n",
    "from evaluate import qwk\n",
    "from sklearn.metrics import cohen_kappa_score"
   ]
  },
  {
   "cell_type": "code",
   "execution_count": 8,
   "metadata": {},
   "outputs": [
    {
     "name": "stdout",
     "output_type": "stream",
     "text": [
      "Counter({4: 2939, 2: 2790, 3: 2300, 1: 2183, 0: 283})\n",
      "Counter({4: 1258, 2: 1247, 3: 959, 1: 907, 0: 127})\n",
      "Counter({1: 3002, 4: 2953, 2: 2932, 0: 2903, 3: 2899})\n",
      "Counter({3: 1298, 0: 1294, 2: 1265, 4: 1244, 1: 1195})\n"
     ]
    }
   ],
   "source": [
    "# Load Data\n",
    "X_train, y_train, X_test, y_test = clean_data('')\n",
    "print(Counter(y_train))\n",
    "print(Counter(y_test))\n",
    "\n",
    "# SMOTE resampling\n",
    "X_train, y_train, X_test, y_test = SMOTE_resample(X_train, y_train, X_test, y_test)\n",
    "print(Counter(y_train))\n",
    "print(Counter(y_test))\n",
    "\n",
    "# Feature selection\n",
    "pca = PCA(svd_solver='full')\n",
    "X_train = pca.fit_transform(X_train)\n",
    "X_test = pca.transform(X_test)"
   ]
  },
  {
   "cell_type": "code",
   "execution_count": 9,
   "metadata": {},
   "outputs": [
    {
     "name": "stderr",
     "output_type": "stream",
     "text": [
      "c:\\Users\\Noah\\AppData\\Local\\Programs\\Python\\Python39\\lib\\site-packages\\sklearn\\model_selection\\_validation.py:378: FitFailedWarning: \n",
      "60 fits failed out of a total of 150.\n",
      "The score on these train-test partitions for these parameters will be set to -inf.\n",
      "If these failures are not expected, you can try to debug them by setting error_score='raise'.\n",
      "\n",
      "Below are more details about the failures:\n",
      "--------------------------------------------------------------------------------\n",
      "33 fits failed with the following error:\n",
      "Traceback (most recent call last):\n",
      "  File \"c:\\Users\\Noah\\AppData\\Local\\Programs\\Python\\Python39\\lib\\site-packages\\sklearn\\model_selection\\_validation.py\", line 686, in _fit_and_score\n",
      "    estimator.fit(X_train, y_train, **fit_params)\n",
      "  File \"c:\\Users\\Noah\\AppData\\Local\\Programs\\Python\\Python39\\lib\\site-packages\\sklearn\\svm\\_classes.py\", line 257, in fit\n",
      "    self.coef_, self.intercept_, n_iter_ = _fit_liblinear(\n",
      "  File \"c:\\Users\\Noah\\AppData\\Local\\Programs\\Python\\Python39\\lib\\site-packages\\sklearn\\svm\\_base.py\", line 1204, in _fit_liblinear\n",
      "    solver_type = _get_liblinear_solver_type(multi_class, penalty, loss, dual)\n",
      "  File \"c:\\Users\\Noah\\AppData\\Local\\Programs\\Python\\Python39\\lib\\site-packages\\sklearn\\svm\\_base.py\", line 1043, in _get_liblinear_solver_type\n",
      "    raise ValueError(\n",
      "ValueError: Unsupported set of arguments: The combination of penalty='l2' and loss='hinge' are not supported when dual=False, Parameters: penalty='l2', loss='hinge', dual=False\n",
      "\n",
      "--------------------------------------------------------------------------------\n",
      "27 fits failed with the following error:\n",
      "Traceback (most recent call last):\n",
      "  File \"c:\\Users\\Noah\\AppData\\Local\\Programs\\Python\\Python39\\lib\\site-packages\\sklearn\\model_selection\\_validation.py\", line 686, in _fit_and_score\n",
      "    estimator.fit(X_train, y_train, **fit_params)\n",
      "  File \"c:\\Users\\Noah\\AppData\\Local\\Programs\\Python\\Python39\\lib\\site-packages\\sklearn\\svm\\_classes.py\", line 257, in fit\n",
      "    self.coef_, self.intercept_, n_iter_ = _fit_liblinear(\n",
      "  File \"c:\\Users\\Noah\\AppData\\Local\\Programs\\Python\\Python39\\lib\\site-packages\\sklearn\\svm\\_base.py\", line 1204, in _fit_liblinear\n",
      "    solver_type = _get_liblinear_solver_type(multi_class, penalty, loss, dual)\n",
      "  File \"c:\\Users\\Noah\\AppData\\Local\\Programs\\Python\\Python39\\lib\\site-packages\\sklearn\\svm\\_base.py\", line 1043, in _get_liblinear_solver_type\n",
      "    raise ValueError(\n",
      "ValueError: Unsupported set of arguments: The combination of penalty='l1' and loss='hinge' is not supported, Parameters: penalty='l1', loss='hinge', dual=False\n",
      "\n",
      "  warnings.warn(some_fits_failed_message, FitFailedWarning)\n",
      "c:\\Users\\Noah\\AppData\\Local\\Programs\\Python\\Python39\\lib\\site-packages\\sklearn\\model_selection\\_search.py:953: UserWarning: One or more of the test scores are non-finite: [      -inf 0.31765255 0.35237236 0.29382503       -inf       -inf\n",
      " 0.30594303       -inf 0.30594303       -inf       -inf 0.29389311\n",
      "       -inf       -inf       -inf 0.29389311 0.34971746 0.35237236\n",
      " 0.29382503 0.19763088 0.352917   0.30594303 0.31765255 0.20437061\n",
      "       -inf 0.20437061       -inf 0.19763088 0.34304586       -inf\n",
      " 0.30594303 0.31765255 0.3454286        -inf 0.34304586       -inf\n",
      " 0.31765255 0.20437061 0.19763088       -inf 0.20437061 0.30594303\n",
      " 0.352917         -inf       -inf       -inf       -inf 0.352917\n",
      " 0.34971746       -inf]\n",
      "  warnings.warn(\n",
      "c:\\Users\\Noah\\AppData\\Local\\Programs\\Python\\Python39\\lib\\site-packages\\sklearn\\model_selection\\_search.py:962: RuntimeWarning: invalid value encountered in subtract\n",
      "  (array - array_means[:, np.newaxis]) ** 2, axis=1, weights=weights\n"
     ]
    },
    {
     "name": "stdout",
     "output_type": "stream",
     "text": [
      "Best Parameters = {'penalty': 'l1', 'max_iter': 5000, 'loss': 'squared_hinge', 'dual': False, 'C': 1}\n",
      "Best Score = 0.3529169992254384\n"
     ]
    }
   ],
   "source": [
    "losses = [\"hinge\", \"squared_hinge\"]\n",
    "learning_rates = [1e-15, 1e-8, 1e-4, 1e-2, 1e-1, 1]\n",
    "penalties = [\"l1\", \"l2\"]\n",
    "max_iters = [1000, 5000, 10000, 20000, 50000, 150000]\n",
    "\n",
    "random_grid = {\n",
    "    \"C\": learning_rates,\n",
    "    \"penalty\": penalties,\n",
    "    \"max_iter\": max_iters,\n",
    "    \"loss\": losses,\n",
    "    \"dual\": [False]\n",
    "}\n",
    "\n",
    "svc = LinearSVC()\n",
    "svc_random = RandomizedSearchCV(estimator=svc, param_distributions=random_grid, n_iter=50, cv=3, verbose=0, n_jobs=-1, error_score=np.NINF)\n",
    "svc_random.fit(X_train, y_train)\n",
    "print(f'Best Parameters = {svc_random.best_params_}')\n",
    "print(f'Best Score = {svc_random.best_score_}')"
   ]
  },
  {
   "cell_type": "code",
   "execution_count": 10,
   "metadata": {},
   "outputs": [
    {
     "name": "stdout",
     "output_type": "stream",
     "text": [
      "Train Score = 0.3836884743685751\n",
      "Test Score = 0.35578144853875476\n",
      "QWK = 0.999999983322588\n",
      "Cohens Kappa Score = 0.1946032062622729\n"
     ]
    }
   ],
   "source": [
    "# Linear SVC\n",
    "# best_params = {'penalty': 'l1', 'max_iter': 5000, 'loss': 'squared_hinge', 'dual': False, 'C': 1}\n",
    "best_params = svc_random.best_params_\n",
    "lsvc = LinearSVC(penalty=best_params['penalty'], max_iter=best_params['max_iter'], loss=best_params['loss'], dual=best_params['dual'], C=best_params['C'])\n",
    "lsvc.fit(X_train, y_train)\n",
    "y_pred = lsvc.predict(X_test)\n",
    "print(f'Train Score = {lsvc.score(X_train, y_train)}')\n",
    "print(f'Test Score = {lsvc.score(X_test, y_test)}')\n",
    "print(f'QWK = {qwk(y_test, y_pred)}')\n",
    "print(f'Cohens Kappa Score = {cohen_kappa_score(y_test, y_pred)}')"
   ]
  },
  {
   "cell_type": "code",
   "execution_count": 11,
   "metadata": {},
   "outputs": [
    {
     "name": "stdout",
     "output_type": "stream",
     "text": [
      "Best Parameters = {'kernel': 'rbf', 'gamma': 'scale', 'class_weight': None, 'C': 1}\n",
      "Best Score = 0.46476902681068794\n"
     ]
    }
   ],
   "source": [
    "# SVC\n",
    "learning_rates = [1e-15, 1e-8, 1e-4, 1e-2, 1e-1, 1]\n",
    "kernels = ['linear', 'poly', 'rbf', 'sigmoid']\n",
    "gammas = ['scale', 'auto']\n",
    "\n",
    "random_grid = {\n",
    "    \"C\": learning_rates,\n",
    "    \"kernel\": kernels,\n",
    "    \"gamma\": gammas,\n",
    "    \"class_weight\": [None]\n",
    "}\n",
    "\n",
    "svc = SVC()\n",
    "svc_random = RandomizedSearchCV(estimator=svc, param_distributions=random_grid, n_iter=24, cv=3, verbose=0, n_jobs=-1, error_score=np.NINF)\n",
    "svc_random.fit(X_train, y_train)\n",
    "print(f'Best Parameters = {svc_random.best_params_}')\n",
    "print(f'Best Score = {svc_random.best_score_}')\n"
   ]
  },
  {
   "cell_type": "code",
   "execution_count": 12,
   "metadata": {},
   "outputs": [
    {
     "name": "stdout",
     "output_type": "stream",
     "text": [
      "Train Score = 0.6015385662740826\n",
      "Test Score = 0.48014612452350697\n",
      "QWK = 0.9999999886313515\n",
      "Cohens Kappa Score = 0.35058205811088883\n"
     ]
    }
   ],
   "source": [
    "# SVC\n",
    "# best_params = {'kernel': 'rbf', 'gamma': 'scale', 'class_weight': None, 'C': 1}\n",
    "best_params = svc_random.best_params_\n",
    "svc = SVC(kernel=best_params['kernel'], gamma=best_params['gamma'], C=best_params['C'])\n",
    "svc.fit(X_train, y_train)\n",
    "y_pred = svc.predict(X_test)\n",
    "print(f'Train Score = {svc.score(X_train, y_train)}')\n",
    "print(f'Test Score = {svc.score(X_test, y_test)}')\n",
    "print(f'QWK = {qwk(y_test, y_pred)}')\n",
    "print(f'Cohens Kappa Score = {cohen_kappa_score(y_test, y_pred)}')"
   ]
  }
 ],
 "metadata": {
  "kernelspec": {
   "display_name": "Python 3.9.7 64-bit",
   "language": "python",
   "name": "python3"
  },
  "language_info": {
   "codemirror_mode": {
    "name": "ipython",
    "version": 3
   },
   "file_extension": ".py",
   "mimetype": "text/x-python",
   "name": "python",
   "nbconvert_exporter": "python",
   "pygments_lexer": "ipython3",
   "version": "3.9.7"
  },
  "orig_nbformat": 4,
  "vscode": {
   "interpreter": {
    "hash": "01d0cb7c327463eecb8fc8bad5ed81fd0990729e8fadceb930c98fb3d974e263"
   }
  }
 },
 "nbformat": 4,
 "nbformat_minor": 2
}
