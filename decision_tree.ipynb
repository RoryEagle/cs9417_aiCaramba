{
 "cells": [
  {
   "cell_type": "code",
   "execution_count": 8,
   "metadata": {},
   "outputs": [],
   "source": [
    "import pandas as pd\n",
    "import numpy as np\n",
    "from sklearn.tree import DecisionTreeClassifier\n",
    "from sklearn.metrics import accuracy_score, mean_squared_error, confusion_matrix, cohen_kappa_score\n",
    "from sklearn.model_selection import RandomizedSearchCV\n",
    "\n",
    "from cleaning import clean_data\n",
    "\n",
    "from sklearn.utils.class_weight import compute_sample_weight"
   ]
  },
  {
   "cell_type": "code",
   "execution_count": 35,
   "metadata": {},
   "outputs": [],
   "source": [
    "X_train, Y_train, X_test, Y_test = clean_data('./petfinder-adoption-prediction/train/train.csv')\n",
    "sample_weights = compute_sample_weight('balanced', Y_train)\n",
    "\n",
    "dt = DecisionTreeClassifier()\n",
    "\n",
    "'''hyper_params = {\n",
    "    'criterion':['gini', 'entropy'],\n",
    "    'max_depth': range(2,100),\n",
    "    'max_features': range(2,100),\n",
    "    'max_leaf_nodes': range(2,200),\n",
    "    'min_samples_leaf': range(2,30),\n",
    "}\n",
    "model_cv = RandomizedSearchCV(estimator=dt,param_distributions=hyper_params,verbose=1, cv = 3, n_iter = 100)\n",
    "model_cv.fit(X_train,Y_train)\n",
    "print(model_cv.best_score_)\n",
    "print(model_cv.best_estimator_)'''\n",
    "\n",
    "#BEST\n",
    "#criterion - 'entropy'\n",
    "#depth ~ 85\n",
    "#max_features ~45-50\n",
    "#max_leaf_nodes ~ 100 maybe\n",
    "#min_samples_leaf ~ 15-20\n",
    "kappas = []\n",
    "test_accuracies = []\n",
    "train_accuracies = []\n",
    "for i in range(300):\n",
    "    dt = DecisionTreeClassifier(criterion='entropy', max_depth=85, max_features=45, max_leaf_nodes=100, min_samples_leaf=15)\n",
    "    #dt.fit(X_train, Y_train, sample_weight=sample_weights)\n",
    "    dt.fit(X_train, Y_train)\n",
    "    predictions = dt.predict(X_test)\n",
    "    kappas.append(cohen_kappa_score(Y_test, predictions, weights='quadratic'))\n",
    "    train_accuracies.append(accuracy_score(Y_train, dt.predict(X_train)))\n",
    "    test_accuracies.append(accuracy_score(Y_test, predictions))\n",
    "    #print('Confusion Matrix\\n',confusion_matrix(Y_test, predictions))\n",
    "    #print('Cohen Kappa', cohen_kappa_score(Y_test, predictions))\n",
    "    #print('Accuracy Score', accuracy_score(Y_test, predictions))\n",
    "    #print('MSE', mean_squared_error(Y_test, predictions))"
   ]
  },
  {
   "cell_type": "code",
   "execution_count": 36,
   "metadata": {},
   "outputs": [
    {
     "name": "stdout",
     "output_type": "stream",
     "text": [
      "0.30840400190566936 0.19053263733135728 0.2803757225433526\n"
     ]
    }
   ],
   "source": [
    "print(np.mean(train_accuracies), np.mean(kappas), np.mean(test_accuracies))"
   ]
  },
  {
   "cell_type": "code",
   "execution_count": null,
   "metadata": {},
   "outputs": [],
   "source": []
  }
 ],
 "metadata": {
  "kernelspec": {
   "display_name": "Python 3.10.4 ('COMP9417')",
   "language": "python",
   "name": "python3"
  },
  "language_info": {
   "codemirror_mode": {
    "name": "ipython",
    "version": 3
   },
   "file_extension": ".py",
   "mimetype": "text/x-python",
   "name": "python",
   "nbconvert_exporter": "python",
   "pygments_lexer": "ipython3",
   "version": "3.10.4"
  },
  "orig_nbformat": 4,
  "vscode": {
   "interpreter": {
    "hash": "5bbb6214ddd65c57bd7a4b2ba1617f026bbfcc33128d2bfd25d4a61605172ea1"
   }
  }
 },
 "nbformat": 4,
 "nbformat_minor": 2
}
