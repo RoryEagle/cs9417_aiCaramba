{
 "cells": [
  {
   "cell_type": "code",
   "execution_count": 19,
   "metadata": {},
   "outputs": [],
   "source": [
    "import pandas as pd\n",
    "from sklearn.tree import DecisionTreeClassifier\n",
    "from sklearn.metrics import accuracy_score, mean_squared_error, confusion_matrix, cohen_kappa_score\n",
    "from sklearn.model_selection import RandomizedSearchCV\n",
    "\n",
    "from cleaning import clean_data"
   ]
  },
  {
   "cell_type": "code",
   "execution_count": 42,
   "metadata": {},
   "outputs": [
    {
     "name": "stdout",
     "output_type": "stream",
     "text": [
      "Fitting 3 folds for each of 100 candidates, totalling 300 fits\n",
      "0.37179562806830974\n",
      "DecisionTreeClassifier(max_depth=80, max_features=98, max_leaf_nodes=62,\n",
      "                       min_samples_leaf=7)\n"
     ]
    }
   ],
   "source": [
    "X_train, Y_train, X_test, Y_test = clean_data('./petfinder-adoption-prediction/train/train.csv')\n",
    "\n",
    "dt = DecisionTreeClassifier()\n",
    "\n",
    "hyper_params = {\n",
    "    'criterion':['gini', 'entropy'],\n",
    "    'max_depth': range(2,100),\n",
    "    'max_features': range(2,100),\n",
    "    'max_leaf_nodes': range(2,200),\n",
    "    'min_samples_leaf': range(2,30),\n",
    "}\n",
    "model_cv = RandomizedSearchCV(estimator=dt,param_distributions=hyper_params,verbose=1, cv = 3, n_iter = 100)\n",
    "model_cv.fit(X_train,Y_train)\n",
    "print(model_cv.best_score_)\n",
    "print(model_cv.best_estimator_)\n",
    "\n",
    "#BEST\n",
    "#criterion - 'entropy'\n",
    "#depth ~ 85\n",
    "#max_features ~45-50\n",
    "#max_leaf_nodes ~ 100 maybe\n",
    "#min_samples_leaf ~ 15-20\n",
    "\n"
   ]
  },
  {
   "cell_type": "code",
   "execution_count": 39,
   "metadata": {},
   "outputs": [
    {
     "name": "stdout",
     "output_type": "stream",
     "text": [
      "Confusion Matrix\n",
      " [[  1  34  29   6  57]\n",
      " [  0 213 314  55 325]\n",
      " [  3 174 438 104 528]\n",
      " [  0  94 305  95 465]\n",
      " [  1 101 243  44 869]]\n",
      "Cohen Kappa 0.1300370594915503\n",
      "Accuracy Score 0.35927078701645176\n",
      "MSE 2.2374388617163183\n"
     ]
    }
   ],
   "source": [
    "dt = DecisionTreeClassifier(criterion='entropy', max_depth=85, max_features=45, max_leaf_nodes=100, min_samples_leaf=15)\n",
    "dt.fit(X_train, Y_train)\n",
    "predictions = dt.predict(X_test)\n",
    "print('Confusion Matrix\\n',confusion_matrix(Y_test, predictions))\n",
    "print('Cohen Kappa', cohen_kappa_score(Y_test, predictions))\n",
    "print('Accuracy Score', accuracy_score(Y_test, predictions))\n",
    "print('MSE', mean_squared_error(Y_test, predictions))"
   ]
  },
  {
   "cell_type": "code",
   "execution_count": null,
   "metadata": {},
   "outputs": [],
   "source": []
  }
 ],
 "metadata": {
  "kernelspec": {
   "display_name": "Python 3.10.4 ('COMP9417')",
   "language": "python",
   "name": "python3"
  },
  "language_info": {
   "codemirror_mode": {
    "name": "ipython",
    "version": 3
   },
   "file_extension": ".py",
   "mimetype": "text/x-python",
   "name": "python",
   "nbconvert_exporter": "python",
   "pygments_lexer": "ipython3",
   "version": "3.10.4"
  },
  "orig_nbformat": 4,
  "vscode": {
   "interpreter": {
    "hash": "5bbb6214ddd65c57bd7a4b2ba1617f026bbfcc33128d2bfd25d4a61605172ea1"
   }
  }
 },
 "nbformat": 4,
 "nbformat_minor": 2
}
