{
 "cells": [
  {
   "cell_type": "code",
   "execution_count": 19,
   "metadata": {},
   "outputs": [],
   "source": [
    "import pandas as pd\n",
    "from sklearn.tree import DecisionTreeClassifier\n",
    "from sklearn.metrics import accuracy_score, mean_squared_error, confusion_matrix, cohen_kappa_score\n",
    "from sklearn.model_selection import RandomizedSearchCV\n",
    "\n",
    "from cleaning import clean_data"
   ]
  },
  {
   "cell_type": "code",
   "execution_count": 13,
   "metadata": {},
   "outputs": [
    {
     "name": "stdout",
     "output_type": "stream",
     "text": [
      "Fitting 10 folds for each of 300 candidates, totalling 3000 fits\n",
      "0.3691267874165872\n",
      "DecisionTreeClassifier(criterion='entropy', max_depth=85, max_features=45,\n",
      "                       max_leaf_nodes=127, min_samples_leaf=5)\n"
     ]
    },
    {
     "name": "stderr",
     "output_type": "stream",
     "text": [
      "c:\\Users\\Zac\\Anaconda3\\envs\\COMP9417\\lib\\site-packages\\sklearn\\model_selection\\_validation.py:378: FitFailedWarning: \n",
      "150 fits failed out of a total of 3000.\n",
      "The score on these train-test partitions for these parameters will be set to nan.\n",
      "If these failures are not expected, you can try to debug them by setting error_score='raise'.\n",
      "\n",
      "Below are more details about the failures:\n",
      "--------------------------------------------------------------------------------\n",
      "150 fits failed with the following error:\n",
      "Traceback (most recent call last):\n",
      "  File \"c:\\Users\\Zac\\Anaconda3\\envs\\COMP9417\\lib\\site-packages\\sklearn\\model_selection\\_validation.py\", line 686, in _fit_and_score\n",
      "    estimator.fit(X_train, y_train, **fit_params)\n",
      "  File \"c:\\Users\\Zac\\Anaconda3\\envs\\COMP9417\\lib\\site-packages\\sklearn\\tree\\_classes.py\", line 969, in fit\n",
      "    super().fit(\n",
      "  File \"c:\\Users\\Zac\\Anaconda3\\envs\\COMP9417\\lib\\site-packages\\sklearn\\tree\\_classes.py\", line 247, in fit\n",
      "    check_scalar(\n",
      "  File \"c:\\Users\\Zac\\Anaconda3\\envs\\COMP9417\\lib\\site-packages\\sklearn\\utils\\validation.py\", line 1480, in check_scalar\n",
      "    raise ValueError(\n",
      "ValueError: min_samples_leaf == 0, must be >= 1.\n",
      "\n",
      "  warnings.warn(some_fits_failed_message, FitFailedWarning)\n",
      "c:\\Users\\Zac\\Anaconda3\\envs\\COMP9417\\lib\\site-packages\\sklearn\\model_selection\\_search.py:953: UserWarning: One or more of the test scores are non-finite: [0.35617041 0.35521676 0.35416841 0.35407154 0.35398093 0.36331563\n",
      " 0.35331145 0.36369722 0.35874275 0.34921258 0.35379028 0.3636008\n",
      " 0.36151065 0.36017032 0.36236216 0.35531127 0.35245622 0.34454274\n",
      " 0.35483681 0.35521522 0.35541187 0.36483808 0.352548   0.35226256\n",
      " 0.35816905 0.35321104 0.35407154 0.35636043 0.35159826 0.35845722\n",
      " 0.35426601 0.3490222  0.3547393  0.35979318 0.35254755 0.35521558\n",
      " 0.36217631 0.36322112 0.35331263 0.35902846 0.35340814 0.35874093\n",
      " 0.3552193  0.35531327 0.3418807  0.36379309 0.3639852  0.35512452\n",
      " 0.35721812 0.35540397        nan 0.36179046 0.34930573 0.35197903\n",
      " 0.35893005 0.35550066 0.35178664 0.35569313 0.35912533 0.35626274\n",
      " 0.34549993 0.3551188  0.35197748 0.35635907 0.36560189 0.35779064\n",
      " 0.35635953 0.35407281 0.35807871 0.36141087 0.36188606 0.35893232\n",
      " 0.36064733 0.36026365 0.3557881  0.35645549 0.35483445 0.35702592\n",
      " 0.35950565 0.35140606 0.35245013 0.35522048 0.36512597 0.36226983\n",
      " 0.35978655 0.36912679 0.35474184 0.35579037 0.35664442 0.34711898\n",
      " 0.36217668 0.34749984 0.3470222  0.35502592 0.36236216 0.35664869\n",
      " 0.35311952 0.36246139 0.34911399 0.35597948 0.35664388 0.35235953\n",
      " 0.35416433 0.35674293 0.36121858 0.36103663 0.35550329 0.3498807\n",
      " 0.35731281 0.36207508 0.35969694 0.3543588  0.36007772 0.36169586\n",
      " 0.35588143 0.35931182 0.35111698 0.35416996 0.35826365 0.36007871\n",
      " 0.35474257 0.36045703 0.35960016 0.35035644 0.35102574 0.35683744\n",
      " 0.36245594        nan 0.34636134 0.34921431 0.36598357 0.35740996\n",
      " 0.36474502 0.35578964 0.36103337 0.35979618 0.36131372 0.36207835\n",
      " 0.35607499 0.34740333 0.35149911 0.35645567 0.3556964  0.3554115\n",
      " 0.35769595 0.35388279 0.3540749  0.35798012 0.35683599 0.35092805\n",
      " 0.35245431 0.3548378  0.35359635 0.35359753 0.35407227 0.3524534\n",
      " 0.35607463 0.35416506 0.35197848 0.34607191 0.36179064 0.35273966\n",
      " 0.36236461 0.35254837 0.35683599 0.35264606 0.36188778 0.3541676\n",
      " 0.36388733 0.35378674 0.35903137 0.36398166 0.34816551 0.36303082\n",
      " 0.35559553 0.35598193 0.35807318        nan 0.3604603  0.35378755\n",
      " 0.35769041 0.35683644 0.35159562        nan 0.35293295 0.3619803\n",
      "        nan 0.36303028 0.35273676 0.35026093 0.35712207 0.35522012\n",
      " 0.35531281 0.36188733 0.33959281 0.36055227 0.35969422 0.35826547\n",
      " 0.35912434        nan 0.36207644 0.36188479 0.35407318 0.35750511\n",
      " 0.36083417 0.36664969 0.36388987 0.35331082 0.3615091  0.35445259\n",
      " 0.35455055 0.35635916 0.35950747 0.36036034 0.35816969        nan\n",
      " 0.36093586 0.35636152 0.35883662 0.35359671 0.35083426 0.35140551\n",
      " 0.35483744 0.35760044 0.35407299 0.35607536 0.35549966 0.36779527\n",
      " 0.35598121 0.3607482  0.36017196        nan        nan        nan\n",
      " 0.35130864 0.3568398  0.3426437  0.36398575 0.3650301  0.35331064\n",
      " 0.3524524  0.3505471         nan 0.36055391 0.35140596        nan\n",
      " 0.3590261  0.34768841 0.35578973 0.35569377 0.35340469 0.35483517\n",
      " 0.36570176 0.3552173  0.35655345 0.35026465 0.36493522 0.35016533\n",
      " 0.35740596 0.36274357 0.3655071  0.35226665 0.35159535 0.35588579\n",
      " 0.34740406 0.35864606 0.35312297 0.35197839 0.36112288 0.35407218\n",
      " 0.35588334 0.35454601 0.35664361 0.34997803        nan 0.35702873\n",
      " 0.35626565        nan 0.35531118 0.34949893 0.34912152 0.34616415\n",
      " 0.36036171 0.36331681 0.36874747 0.3475899  0.36046294 0.35483081\n",
      " 0.36379009 0.35245286 0.36465123 0.35826166 0.34902456 0.35130637\n",
      " 0.36321758        nan 0.35102474 0.35530637 0.35731626 0.34873785]\n",
      "  warnings.warn(\n"
     ]
    },
    {
     "data": {
      "text/plain": [
       "'dt.fit(X_train, Y_train)\\npredictions = dt.predict(X_test)\\nprint(accuracy_score(Y_test, predictions))\\nprint(mean_squared_error(Y_test, predictions))\\nconfusion_matrix(Y_test, predictions)'"
      ]
     },
     "execution_count": 13,
     "metadata": {},
     "output_type": "execute_result"
    }
   ],
   "source": [
    "X_train, Y_train, X_test, Y_test = clean_data('./petfinder-adoption-prediction/train/train.csv')\n",
    "\n",
    "dt = DecisionTreeClassifier()\n",
    "\n",
    "hyper_params = {\n",
    "    'criterion':['gini', 'entropy'],\n",
    "    'max_depth': range(1,100),\n",
    "    'max_features': range(1,100),\n",
    "    'max_leaf_nodes': range(1,200),\n",
    "    'min_samples_leaf': range(1,30),\n",
    "}\n",
    "model_cv = RandomizedSearchCV(estimator=dt,param_distributions=hyper_params,verbose=1, cv = 10, n_iter = 100)\n",
    "model_cv.fit(X_train,Y_train)\n",
    "print(model_cv.best_score_)\n",
    "print(model_cv.best_estimator_)\n",
    "\n",
    "#BEST\n",
    "#criterion - 'entropy'\n",
    "#depth ~ 85\n",
    "#max_features ~45-50\n",
    "#max_leaf_nodes ~ 100 maybe\n",
    "#min_samples_leaf ~ 15-20\n",
    "\n"
   ]
  },
  {
   "cell_type": "code",
   "execution_count": 18,
   "metadata": {},
   "outputs": [
    {
     "name": "stdout",
     "output_type": "stream",
     "text": [
      "0.3681636282792352\n",
      "2.077590040017786\n"
     ]
    },
    {
     "data": {
      "text/plain": [
       "array([[  0,  44,  32,   8,  43],\n",
       "       [  0, 291, 284, 104, 228],\n",
       "       [  0, 242, 413, 196, 396],\n",
       "       [  0, 156, 274, 187, 342],\n",
       "       [  0, 152, 230, 111, 765]], dtype=int64)"
      ]
     },
     "execution_count": 18,
     "metadata": {},
     "output_type": "execute_result"
    }
   ],
   "source": [
    "dt = DecisionTreeClassifier(criterion='entropy', max_depth=85, max_features=45, max_leaf_nodes=100, min_samples_leaf=15)\n",
    "dt.fit(X_train, Y_train)\n",
    "predictions = dt.predict(X_test)\n",
    "print(cohen_kappa_score(Y_test, predictions))\n",
    "print(accuracy_score(Y_test, predictions))\n",
    "print(mean_squared_error(Y_test, predictions))\n",
    "confusion_matrix(Y_test, predictions)"
   ]
  },
  {
   "cell_type": "code",
   "execution_count": null,
   "metadata": {},
   "outputs": [],
   "source": []
  }
 ],
 "metadata": {
  "kernelspec": {
   "display_name": "Python 3.10.4 ('COMP9417')",
   "language": "python",
   "name": "python3"
  },
  "language_info": {
   "codemirror_mode": {
    "name": "ipython",
    "version": 3
   },
   "file_extension": ".py",
   "mimetype": "text/x-python",
   "name": "python",
   "nbconvert_exporter": "python",
   "pygments_lexer": "ipython3",
   "version": "3.10.4"
  },
  "orig_nbformat": 4,
  "vscode": {
   "interpreter": {
    "hash": "5bbb6214ddd65c57bd7a4b2ba1617f026bbfcc33128d2bfd25d4a61605172ea1"
   }
  }
 },
 "nbformat": 4,
 "nbformat_minor": 2
}
